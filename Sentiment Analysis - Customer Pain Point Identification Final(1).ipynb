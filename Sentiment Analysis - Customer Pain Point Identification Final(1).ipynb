{
 "cells": [
  {
   "cell_type": "markdown",
   "metadata": {},
   "source": [
    "## Identifying Customer Pain Points for a Newly Launched Product Through use of Sentimental Analysis – A case study of Kenyan Banking Space (Kenya Police Sacco)"
   ]
  },
  {
   "cell_type": "markdown",
   "metadata": {},
   "source": [
    "## Problem Statement"
   ]
  },
  {
   "cell_type": "markdown",
   "metadata": {},
   "source": [
    "#### Organizations are undertaking digital transformation projects in order to improve quality and efficiency of services and products they offer. \n",
    "\n",
    "#### In the financial space this entails mainly a change in their CBS (Core Banking Systems) and other interacting traditional systems such as CRM ( Customer Relationship Management) and DMS ( Document Management Systems)  and with more recently mobile banking interfaces. \n",
    "\n",
    "#### The adoption of mobile has increased the way customers acccess their existing funds and new credit facilities - mobile loans. As such a change in the mobile banking platforms means an abrupt change in the customer experience, especially during the early stages of the implementation\n",
    "\n",
    "#### The feedback received by marketing teams and product managers at this earlier stages is crucial in improving the customer experience. Traditionally this feedback has been obtained from customer surveys, questionnaires which take time to conduct.  \n",
    "\n",
    "#### Organizations can take use of data from social media to help get feedback on their newly launched products and services, from which they can use to identify customer paints, and rapidly solve them. \n",
    "\n"
   ]
  },
  {
   "cell_type": "markdown",
   "metadata": {},
   "source": [
    "## Importing the Libraries"
   ]
  },
  {
   "cell_type": "code",
   "execution_count": 1,
   "metadata": {},
   "outputs": [],
   "source": [
    "%matplotlib inline\n",
    "import pandas as pd\n",
    "import numpy as np\n",
    "import re\n",
    "from nltk.tokenize import word_tokenize\n",
    "from nltk.corpus import stopwords\n",
    "import nltk\n",
    "from nltk.stem import WordNetLemmatizer"
   ]
  },
  {
   "cell_type": "markdown",
   "metadata": {},
   "source": [
    "## Data Description and Basic Cleaning"
   ]
  },
  {
   "cell_type": "markdown",
   "metadata": {},
   "source": [
    "#### The dataset used in this project are reviews from Google Playstore and Facebook comments.\n",
    "\n",
    "#### The reviews are downloaded reviews for M-Tawi Application in Google playstore - obtained using the google developer account. \n",
    "\n",
    "#### The facebook comments are data parsed from the Sacco's official Facebook page, using the parsing tool Octoparse. The posts used in parsing are posts which specifically marketed the afforementioned application. \n",
    "\n",
    "\n",
    "#### Data from the two sources were combined into a single csv file, that consists of three columns that were common in both files, that is comment link, source and comment.\n",
    "\n",
    "#### Blank rows within the dataset were removed, with the comment column being used to set the criteria for removing the blanks. \n",
    "\n",
    "#### After dropping the dataset, each of the rows were then manually tagged by colleagues and I, into two classes;  that is Positive and Negative. Additionally any comment which was not tagged into these two categories, were taken as neutral to form the third class, Neutral. This column was added to the csv file to form the fourth column which is the label field. \n",
    "\n",
    "#### The final comments file were stored in a comments_data.csv file that consists of 335 rows, whose characteristics are shown in the cells below."
   ]
  },
  {
   "cell_type": "code",
   "execution_count": 2,
   "metadata": {
    "scrolled": true
   },
   "outputs": [
    {
     "name": "stdout",
     "output_type": "stream",
     "text": [
      " Volume in drive C is OS\n",
      " Volume Serial Number is 3C62-F0AB\n",
      "\n",
      " Directory of C:\\Users\\brian.samba\\Documents\\Computation Intelligence\\LT\\Sentiment Analysis\n",
      "\n",
      "18/12/2020  14:17    <DIR>          .\n",
      "18/12/2020  14:17    <DIR>          ..\n",
      "18/12/2020  10:01    <DIR>          .ipynb_checkpoints\n",
      "15/12/2020  21:58            66,546 all_data_no_blanks - Copy.csv\n",
      "15/12/2020  21:30            87,279 all_data_no_blanks.csv\n",
      "16/12/2020  12:04            66,554 comments_data.csv\n",
      "04/12/2020  23:02                67 credentials.json\n",
      "15/12/2020  21:59    <DIR>          Data\n",
      "05/12/2020  09:18                45 profiles_urls.json\n",
      "05/12/2020  07:52            14,620 Scrapping.ipynb\n",
      "05/12/2020  09:07             7,018 scrapping.py\n",
      "11/12/2020  11:58         9,464,236 Sentiment Analysis -  Walkthrough.ipynb\n",
      "14/12/2020  10:16           257,839 Sentiment Analysis - Customer Pain Point Identification.ipynb\n",
      "16/12/2020  17:42           281,786 Sentiment Analysis - Customer Pain Point Identification-Copy1.ipynb\n",
      "16/12/2020  19:40           181,521 Sentiment Analysis - Customer Pain Point Identification-Copy2.ipynb\n",
      "18/12/2020  14:17           184,257 Sentiment Analysis - Customer Pain Point Identification-Copy3.ipynb\n",
      "15/12/2020  16:12             5,268 Sentiment Analysis - IMDB.ipynb\n",
      "18/12/2020  13:56            82,131 wordCloud1.png\n",
      "11/12/2020  08:12            86,442 wordcloud11.png\n",
      "11/12/2020  08:57            74,823 wordcloud33.png\n",
      "              16 File(s)     10,860,432 bytes\n",
      "               4 Dir(s)  126,526,181,376 bytes free\n"
     ]
    }
   ],
   "source": [
    "%ls"
   ]
  },
  {
   "cell_type": "code",
   "execution_count": 3,
   "metadata": {},
   "outputs": [],
   "source": [
    "#load the comments dataset into a pandas dataframe\n",
    "data = pd.read_csv('comments_data.csv')"
   ]
  },
  {
   "cell_type": "code",
   "execution_count": 4,
   "metadata": {},
   "outputs": [
    {
     "data": {
      "text/plain": [
       "Comment_Link    0\n",
       "Source          0\n",
       "Comment         0\n",
       "Label           0\n",
       "dtype: int64"
      ]
     },
     "execution_count": 4,
     "metadata": {},
     "output_type": "execute_result"
    }
   ],
   "source": [
    "# check for null values in the dataset\n",
    "data.isnull().sum()"
   ]
  },
  {
   "cell_type": "code",
   "execution_count": 5,
   "metadata": {
    "scrolled": true
   },
   "outputs": [
    {
     "data": {
      "text/plain": [
       "(335, 4)"
      ]
     },
     "execution_count": 5,
     "metadata": {},
     "output_type": "execute_result"
    }
   ],
   "source": [
    "# check the number of rows and columns present in the dataset\n",
    "data.shape"
   ]
  },
  {
   "cell_type": "code",
   "execution_count": 6,
   "metadata": {
    "scrolled": true
   },
   "outputs": [
    {
     "data": {
      "text/html": [
       "<div>\n",
       "<style scoped>\n",
       "    .dataframe tbody tr th:only-of-type {\n",
       "        vertical-align: middle;\n",
       "    }\n",
       "\n",
       "    .dataframe tbody tr th {\n",
       "        vertical-align: top;\n",
       "    }\n",
       "\n",
       "    .dataframe thead th {\n",
       "        text-align: right;\n",
       "    }\n",
       "</style>\n",
       "<table border=\"1\" class=\"dataframe\">\n",
       "  <thead>\n",
       "    <tr style=\"text-align: right;\">\n",
       "      <th></th>\n",
       "      <th>Comment_Link</th>\n",
       "      <th>Source</th>\n",
       "      <th>Comment</th>\n",
       "      <th>Label</th>\n",
       "    </tr>\n",
       "  </thead>\n",
       "  <tbody>\n",
       "    <tr>\n",
       "      <th>count</th>\n",
       "      <td>335</td>\n",
       "      <td>335</td>\n",
       "      <td>335</td>\n",
       "      <td>335</td>\n",
       "    </tr>\n",
       "    <tr>\n",
       "      <th>unique</th>\n",
       "      <td>125</td>\n",
       "      <td>2</td>\n",
       "      <td>318</td>\n",
       "      <td>3</td>\n",
       "    </tr>\n",
       "    <tr>\n",
       "      <th>top</th>\n",
       "      <td>https://www.facebook.com/POLICESACCO/posts/317...</td>\n",
       "      <td>Facebook</td>\n",
       "      <td>Good</td>\n",
       "      <td>Negative</td>\n",
       "    </tr>\n",
       "    <tr>\n",
       "      <th>freq</th>\n",
       "      <td>98</td>\n",
       "      <td>213</td>\n",
       "      <td>6</td>\n",
       "      <td>204</td>\n",
       "    </tr>\n",
       "  </tbody>\n",
       "</table>\n",
       "</div>"
      ],
      "text/plain": [
       "                                             Comment_Link    Source Comment  \\\n",
       "count                                                 335       335     335   \n",
       "unique                                                125         2     318   \n",
       "top     https://www.facebook.com/POLICESACCO/posts/317...  Facebook    Good   \n",
       "freq                                                   98       213       6   \n",
       "\n",
       "           Label  \n",
       "count        335  \n",
       "unique         3  \n",
       "top     Negative  \n",
       "freq         204  "
      ]
     },
     "execution_count": 6,
     "metadata": {},
     "output_type": "execute_result"
    }
   ],
   "source": [
    "# chck basic statistics of the dataset\n",
    "data.describe()"
   ]
  },
  {
   "cell_type": "code",
   "execution_count": 7,
   "metadata": {
    "scrolled": true
   },
   "outputs": [
    {
     "data": {
      "text/html": [
       "<div>\n",
       "<style scoped>\n",
       "    .dataframe tbody tr th:only-of-type {\n",
       "        vertical-align: middle;\n",
       "    }\n",
       "\n",
       "    .dataframe tbody tr th {\n",
       "        vertical-align: top;\n",
       "    }\n",
       "\n",
       "    .dataframe thead th {\n",
       "        text-align: right;\n",
       "    }\n",
       "</style>\n",
       "<table border=\"1\" class=\"dataframe\">\n",
       "  <thead>\n",
       "    <tr style=\"text-align: right;\">\n",
       "      <th></th>\n",
       "      <th>Comment_Link</th>\n",
       "      <th>Source</th>\n",
       "      <th>Comment</th>\n",
       "      <th>Label</th>\n",
       "    </tr>\n",
       "  </thead>\n",
       "  <tbody>\n",
       "    <tr>\n",
       "      <th>0</th>\n",
       "      <td>http://play.google.com/console/developers/6882...</td>\n",
       "      <td>Play Store</td>\n",
       "      <td>Great slick App. Taking Sacco business to the ...</td>\n",
       "      <td>Positive</td>\n",
       "    </tr>\n",
       "    <tr>\n",
       "      <th>1</th>\n",
       "      <td>http://play.google.com/console/developers/6882...</td>\n",
       "      <td>Play Store</td>\n",
       "      <td>Very good app in paying Bill's and I like the ...</td>\n",
       "      <td>Positive</td>\n",
       "    </tr>\n",
       "    <tr>\n",
       "      <th>2</th>\n",
       "      <td>http://play.google.com/console/developers/6882...</td>\n",
       "      <td>Play Store</td>\n",
       "      <td>Have just installed it and it's working very w...</td>\n",
       "      <td>Positive</td>\n",
       "    </tr>\n",
       "    <tr>\n",
       "      <th>3</th>\n",
       "      <td>http://play.google.com/console/developers/6882...</td>\n",
       "      <td>Play Store</td>\n",
       "      <td>Good</td>\n",
       "      <td>Positive</td>\n",
       "    </tr>\n",
       "    <tr>\n",
       "      <th>4</th>\n",
       "      <td>http://play.google.com/console/developers/6882...</td>\n",
       "      <td>Play Store</td>\n",
       "      <td>I like it because its very fast</td>\n",
       "      <td>Positive</td>\n",
       "    </tr>\n",
       "  </tbody>\n",
       "</table>\n",
       "</div>"
      ],
      "text/plain": [
       "                                        Comment_Link      Source  \\\n",
       "0  http://play.google.com/console/developers/6882...  Play Store   \n",
       "1  http://play.google.com/console/developers/6882...  Play Store   \n",
       "2  http://play.google.com/console/developers/6882...  Play Store   \n",
       "3  http://play.google.com/console/developers/6882...  Play Store   \n",
       "4  http://play.google.com/console/developers/6882...  Play Store   \n",
       "\n",
       "                                             Comment     Label  \n",
       "0  Great slick App. Taking Sacco business to the ...  Positive  \n",
       "1  Very good app in paying Bill's and I like the ...  Positive  \n",
       "2  Have just installed it and it's working very w...  Positive  \n",
       "3                                               Good  Positive  \n",
       "4                    I like it because its very fast  Positive  "
      ]
     },
     "execution_count": 7,
     "metadata": {},
     "output_type": "execute_result"
    }
   ],
   "source": [
    "# Check the values of the first five rows(observations) of the dataset\n",
    "data.head(5)\n"
   ]
  },
  {
   "cell_type": "code",
   "execution_count": 8,
   "metadata": {},
   "outputs": [
    {
     "data": {
      "text/html": [
       "<div>\n",
       "<style scoped>\n",
       "    .dataframe tbody tr th:only-of-type {\n",
       "        vertical-align: middle;\n",
       "    }\n",
       "\n",
       "    .dataframe tbody tr th {\n",
       "        vertical-align: top;\n",
       "    }\n",
       "\n",
       "    .dataframe thead th {\n",
       "        text-align: right;\n",
       "    }\n",
       "</style>\n",
       "<table border=\"1\" class=\"dataframe\">\n",
       "  <thead>\n",
       "    <tr style=\"text-align: right;\">\n",
       "      <th></th>\n",
       "      <th>Comment_Link</th>\n",
       "      <th>Source</th>\n",
       "      <th>Comment</th>\n",
       "      <th>Label</th>\n",
       "    </tr>\n",
       "  </thead>\n",
       "  <tbody>\n",
       "    <tr>\n",
       "      <th>330</th>\n",
       "      <td>https://www.facebook.com/POLICESACCO/posts/318...</td>\n",
       "      <td>Facebook</td>\n",
       "      <td>Why is the app not working when u put the numb...</td>\n",
       "      <td>Negative</td>\n",
       "    </tr>\n",
       "    <tr>\n",
       "      <th>331</th>\n",
       "      <td>https://www.facebook.com/POLICESACCO/posts/318...</td>\n",
       "      <td>Facebook</td>\n",
       "      <td>Isn't working for me!?</td>\n",
       "      <td>Negative</td>\n",
       "    </tr>\n",
       "    <tr>\n",
       "      <th>332</th>\n",
       "      <td>https://www.facebook.com/POLICESACCO/posts/318...</td>\n",
       "      <td>Facebook</td>\n",
       "      <td>Mhhhh</td>\n",
       "      <td>Neutral</td>\n",
       "    </tr>\n",
       "    <tr>\n",
       "      <th>333</th>\n",
       "      <td>https://www.facebook.com/POLICESACCO/posts/318...</td>\n",
       "      <td>Facebook</td>\n",
       "      <td>I did some deposits yesterday and can't see an...</td>\n",
       "      <td>Negative</td>\n",
       "    </tr>\n",
       "    <tr>\n",
       "      <th>334</th>\n",
       "      <td>https://www.facebook.com/POLICESACCO/posts/318...</td>\n",
       "      <td>Facebook</td>\n",
       "      <td>Should we delete the msacco app</td>\n",
       "      <td>Neutral</td>\n",
       "    </tr>\n",
       "  </tbody>\n",
       "</table>\n",
       "</div>"
      ],
      "text/plain": [
       "                                          Comment_Link    Source  \\\n",
       "330  https://www.facebook.com/POLICESACCO/posts/318...  Facebook   \n",
       "331  https://www.facebook.com/POLICESACCO/posts/318...  Facebook   \n",
       "332  https://www.facebook.com/POLICESACCO/posts/318...  Facebook   \n",
       "333  https://www.facebook.com/POLICESACCO/posts/318...  Facebook   \n",
       "334  https://www.facebook.com/POLICESACCO/posts/318...  Facebook   \n",
       "\n",
       "                                               Comment     Label  \n",
       "330  Why is the app not working when u put the numb...  Negative  \n",
       "331                             Isn't working for me!?  Negative  \n",
       "332                                              Mhhhh   Neutral  \n",
       "333  I did some deposits yesterday and can't see an...  Negative  \n",
       "334                    Should we delete the msacco app   Neutral  "
      ]
     },
     "execution_count": 8,
     "metadata": {},
     "output_type": "execute_result"
    }
   ],
   "source": [
    "# Check the values of the last five rows(observations) of the dataset\n",
    "data.tail(5)"
   ]
  },
  {
   "cell_type": "markdown",
   "metadata": {},
   "source": [
    "## Data Preprocessing and Visualization"
   ]
  },
  {
   "cell_type": "markdown",
   "metadata": {},
   "source": [
    "#### Data Preprocessing"
   ]
  },
  {
   "cell_type": "markdown",
   "metadata": {},
   "source": [
    "##### Removal of Tags, punctuation, numbers and conversion to lowercase function definition"
   ]
  },
  {
   "cell_type": "code",
   "execution_count": 9,
   "metadata": {},
   "outputs": [],
   "source": [
    "# Functon to remove punctuation, tags, numbers and conversion to lower case\n",
    "\n",
    "def preprocessing(comments):\n",
    "    \n",
    "    preprocessed_comments = []\n",
    "    for comment in comments:\n",
    "        new_text = re.sub('<.*?>','', comment) # removes HTML Tags\n",
    "        new_text = re.sub(r'[^\\w\\s]','',new_text) # removes punctuation\n",
    "        new_text = re.sub(r'\\d+','',new_text) # removes numbers\n",
    "        new_text = new_text.lower() # converts to lower case\n",
    "        \n",
    "        if new_text != '':\n",
    "            preprocessed_comments.append(new_text)\n",
    "            \n",
    "    return preprocessed_comments\n",
    "    "
   ]
  },
  {
   "cell_type": "markdown",
   "metadata": {},
   "source": [
    "##### Tokenization Function"
   ]
  },
  {
   "cell_type": "code",
   "execution_count": 10,
   "metadata": {},
   "outputs": [],
   "source": [
    "# Tokenization function\n",
    "def tokenization(preprocessed_comments):\n",
    "    tokenized_comments = []\n",
    "    for comment in preprocessed_comments:\n",
    "        w_token = word_tokenize(comment)\n",
    "        if w_token != '':\n",
    "            tokenized_comments.append(w_token)\n",
    "        \n",
    "    return tokenized_comments\n",
    "    "
   ]
  },
  {
   "cell_type": "markdown",
   "metadata": {},
   "source": [
    "##### Stopwords Removal Function"
   ]
  },
  {
   "cell_type": "code",
   "execution_count": 11,
   "metadata": {},
   "outputs": [],
   "source": [
    "# Stopword Removal function \n",
    "def remove_stopwords(tokenized_comments, stopwords):\n",
    "    \n",
    "    comments_no_stopwords = []\n",
    "    for comment in tokenized_comments:\n",
    "        cleaned_list =[]\n",
    "        for word in comment:\n",
    "            if word not in stopwords:\n",
    "                cleaned_list.append(word)\n",
    "        comments_no_stopwords.append(cleaned_list)\n",
    "    \n",
    "    return comments_no_stopwords\n",
    "\n",
    "    \n",
    "    "
   ]
  },
  {
   "cell_type": "markdown",
   "metadata": {},
   "source": [
    "##### Lemmatization Function"
   ]
  },
  {
   "cell_type": "code",
   "execution_count": 12,
   "metadata": {},
   "outputs": [],
   "source": [
    "def lemmatization(comments_no_stopwords):\n",
    "    \n",
    "    lemmatizer = WordNetLemmatizer()    \n",
    "    lemmatized_comments = []\n",
    "    \n",
    "    for comment in comments_no_stopwords:\n",
    "        lemmatized_words = []\n",
    "        for word in comment:\n",
    "            if word != '':\n",
    "                lemmatized_words.append(lemmatizer.lemmatize(word))\n",
    "            \n",
    "        lemmatized_comments.append(lemmatized_words)\n",
    "        \n",
    "    return lemmatized_comments\n",
    "    "
   ]
  },
  {
   "cell_type": "markdown",
   "metadata": {},
   "source": [
    "##### Defining the stopwords and Invoking the four functions to perform preprocessing"
   ]
  },
  {
   "cell_type": "code",
   "execution_count": 13,
   "metadata": {},
   "outputs": [],
   "source": [
    "# set stopwords to swahili + english stopwords\n",
    "swahili_stopwords = [\"akasema\",\"alikuwa\",\"alisema\",\"baada\",\"basi\",\"bila\",\"cha\",\"chini\",\n",
    "                     \"hadi\",\"hapo\",\"hata\",\"hivyo\",\"hiyo\",\"huku\",\"huo\",\"ili\",\"ilikuwa\",\"juu\",\n",
    "                     \"kama\",\"karibu\",\"katika\",\"kila\",\"kima\",\"kisha\",\"kubwa\",\"kutoka\",\"kuwa\",\n",
    "                     \"kwa\",\"kwamba\",\"kwenda\",\"kwenye\",\"la\",\"lakini\",\"mara\",\"mdogo\",\"mimi\",\n",
    "                     \"mkubwa\",\"mmoja\",\"moja\",\"muda\",\"mwenye\",\"na\",\"naye\",\"ndani\",\"ng\",\n",
    "                     \"ni\",\"nini\",\"nonkungu\",\"pamoja\",\"pia\",\"sana\",\"sasa\",\"sauti\",\n",
    "                     \"tafadhali\",\"tena\",\"tu\",\"vile\",\"wa\",\"wakati\",\"wake\",\"walikuwa\",\"wao\",\n",
    "                     \"watu\",\"wengine\",\"wote\",\"ya\",\"yake\",\"yangu\",\"yao\",\"yeye\",\"yule\",\"za\",\"zaidi\",\"zake\"]\n",
    "\n",
    "stopwords = set(stopwords.words('english') + swahili_stopwords)"
   ]
  },
  {
   "cell_type": "code",
   "execution_count": 14,
   "metadata": {},
   "outputs": [],
   "source": [
    "#comments = data['Comment']\n",
    "#labels = data['Label']\n",
    "\n",
    "df = data[['Comment', 'Label']]\n",
    "\n",
    "preprocessed_comments = preprocessing(df.Comment)\n",
    "tokenized_comments = tokenization(preprocessed_comments)\n",
    "comments_no_stopwords = remove_stopwords(tokenized_comments, stopwords)\n",
    "\n",
    "lemmatized_comments = lemmatization(comments_no_stopwords)\n",
    "\n",
    "\n",
    "#print(len(lemmatized_comments))\n"
   ]
  },
  {
   "cell_type": "markdown",
   "metadata": {},
   "source": [
    "#### Visualization"
   ]
  },
  {
   "cell_type": "markdown",
   "metadata": {},
   "source": [
    "##### Creation of a Wordcloud"
   ]
  },
  {
   "cell_type": "code",
   "execution_count": 44,
   "metadata": {},
   "outputs": [
    {
     "data": {
      "text/plain": [
       "['great',\n",
       " 'slick',\n",
       " 'app',\n",
       " 'taking',\n",
       " 'sacco',\n",
       " 'business',\n",
       " 'next',\n",
       " 'level',\n",
       " 'kudos',\n",
       " 'police',\n",
       " 'sacco',\n",
       " 'kume',\n",
       " 'pambazuka',\n",
       " 'good',\n",
       " 'app',\n",
       " 'paying',\n",
       " 'bill',\n",
       " 'like',\n",
       " 'introduction',\n",
       " 'airtel',\n",
       " 'money',\n",
       " 'fast',\n",
       " 'efficient',\n",
       " 'please',\n",
       " 'next',\n",
       " 'update',\n",
       " 'introduce',\n",
       " 'fingerprint',\n",
       " 'installed',\n",
       " 'working',\n",
       " 'well',\n",
       " 'keep',\n",
       " 'good',\n",
       " 'like',\n",
       " 'fast',\n",
       " 'cant',\n",
       " 'activate',\n",
       " 'app',\n",
       " 'cant',\n",
       " 'activate',\n",
       " 'application',\n",
       " 'crack',\n",
       " 'easily',\n",
       " 'unresponsive',\n",
       " 'slow',\n",
       " 'stressful',\n",
       " 'call',\n",
       " 'customer',\n",
       " 'care',\n",
       " 'assistance',\n",
       " 'find',\n",
       " 'another',\n",
       " 'ugly',\n",
       " 'response',\n",
       " 'eish',\n",
       " 'non',\n",
       " 'responsive',\n",
       " 'cant',\n",
       " 'activate',\n",
       " 'app',\n",
       " 'get',\n",
       " 'already',\n",
       " 'registered',\n",
       " 'cant',\n",
       " 'even',\n",
       " 'use',\n",
       " 'ussd',\n",
       " 'cant',\n",
       " 'activatedfix',\n",
       " 'plz',\n",
       " 'error',\n",
       " 'everytime',\n",
       " 'marvelous',\n",
       " 'working',\n",
       " 'problem',\n",
       " 'functioning',\n",
       " 'mtawi',\n",
       " 'app',\n",
       " 'downloading',\n",
       " 'fullest',\n",
       " 'responding',\n",
       " 'great',\n",
       " 'good',\n",
       " 'brilliant',\n",
       " 'customer',\n",
       " 'journey',\n",
       " 'efficient',\n",
       " 'service',\n",
       " 'offered',\n",
       " 'explore',\n",
       " 'excellent',\n",
       " 'excellent',\n",
       " 'poor',\n",
       " 'app',\n",
       " 'working',\n",
       " 'app',\n",
       " 'cant',\n",
       " 'b',\n",
       " 'downloaded',\n",
       " 'fullest',\n",
       " 'login',\n",
       " 'option',\n",
       " 'automate',\n",
       " 'activation',\n",
       " 'code',\n",
       " 'sending',\n",
       " 'start',\n",
       " 'figure',\n",
       " 'first',\n",
       " 'one',\n",
       " 'go',\n",
       " 'open',\n",
       " 'sm',\n",
       " 'app',\n",
       " 'return',\n",
       " 'start',\n",
       " 'becomes',\n",
       " 'cycle',\n",
       " 'worst',\n",
       " 'product',\n",
       " 'developed',\n",
       " 'excellent',\n",
       " 'fast',\n",
       " 'seamless',\n",
       " 'fast',\n",
       " 'reliable',\n",
       " 'good',\n",
       " 'nothing',\n",
       " 'app',\n",
       " 'nonresponsivei',\n",
       " 'wonder',\n",
       " 'away',\n",
       " 'm_sacco',\n",
       " 'app',\n",
       " 'useless',\n",
       " 'app',\n",
       " 'everytime',\n",
       " 'oops',\n",
       " 'youve',\n",
       " 'changed',\n",
       " 'device',\n",
       " 'yet',\n",
       " 'havent',\n",
       " 'changed',\n",
       " 'phone',\n",
       " 'last',\n",
       " 'yr',\n",
       " 'ussd',\n",
       " 'thing',\n",
       " 'rubbish',\n",
       " 'useful',\n",
       " 'app',\n",
       " 'working',\n",
       " 'ssd',\n",
       " 'poor',\n",
       " 'quality',\n",
       " 'app',\n",
       " 'good',\n",
       " 'unstable',\n",
       " 'dont',\n",
       " 'see',\n",
       " 'use',\n",
       " 'call',\n",
       " 'apps',\n",
       " 'occupies',\n",
       " 'space',\n",
       " 'nothing',\n",
       " 'long',\n",
       " 'way',\n",
       " 'go',\n",
       " 'full',\n",
       " 'feature',\n",
       " 'app',\n",
       " 'keep',\n",
       " 'locking',\n",
       " 'logged',\n",
       " 'thus',\n",
       " 'calling',\n",
       " 'update',\n",
       " 'time',\n",
       " 'timei',\n",
       " 'think',\n",
       " 'time',\n",
       " 'consuming',\n",
       " 'waste',\n",
       " 'resource',\n",
       " 'like',\n",
       " 'speed',\n",
       " 'simplicity',\n",
       " 'accessing',\n",
       " 'info',\n",
       " 'service',\n",
       " 'inefficient',\n",
       " 'best',\n",
       " 'love',\n",
       " 'take',\n",
       " 'time',\n",
       " 'logging',\n",
       " 'hence',\n",
       " 'consumes',\n",
       " 'bundle',\n",
       " 'used',\n",
       " 'previous',\n",
       " 'mkona',\n",
       " 'kaufala',\n",
       " 'fulaniwill',\n",
       " 'edit',\n",
       " 'receive',\n",
       " 'otp',\n",
       " 'always',\n",
       " 'invalid',\n",
       " 'otp',\n",
       " 'worst',\n",
       " 'sacco',\n",
       " 'app',\n",
       " 'east',\n",
       " 'central',\n",
       " 'africa',\n",
       " 'crushing',\n",
       " 'time',\n",
       " 'updating',\n",
       " 'time',\n",
       " 'never',\n",
       " 'show',\n",
       " 'balance',\n",
       " 'total',\n",
       " 'failure',\n",
       " 'useless',\n",
       " 'app',\n",
       " 'meant',\n",
       " 'important',\n",
       " 'people',\n",
       " 'useless',\n",
       " 'service',\n",
       " 'shame',\n",
       " 'worst',\n",
       " 'nice',\n",
       " 'app',\n",
       " 'good',\n",
       " 'app',\n",
       " 'need',\n",
       " 'modification',\n",
       " 'show',\n",
       " 'place',\n",
       " 'showing',\n",
       " 'balance',\n",
       " 'due',\n",
       " 'whatsoeveralso',\n",
       " 'take',\n",
       " 'short',\n",
       " 'time',\n",
       " 'close',\n",
       " 'nice',\n",
       " 'app',\n",
       " 'world',\n",
       " 'roll',\n",
       " 'app',\n",
       " 'isnt',\n",
       " 'finished',\n",
       " 'im',\n",
       " 'tired',\n",
       " 'daily',\n",
       " 'update',\n",
       " 'suggestion',\n",
       " 'first',\n",
       " 'beta',\n",
       " 'test',\n",
       " 'releasing',\n",
       " 'mass',\n",
       " 'jesus',\n",
       " 'except',\n",
       " 'bug',\n",
       " 'otherwise',\n",
       " 'okay',\n",
       " 'useless',\n",
       " 'appthey',\n",
       " 'jst',\n",
       " 'scumthis',\n",
       " 'police',\n",
       " 'sacco',\n",
       " 'let',\n",
       " 'everybody',\n",
       " 'application',\n",
       " 'need',\n",
       " 'wider',\n",
       " 'volume',\n",
       " 'nice',\n",
       " 'fake',\n",
       " 'terrible',\n",
       " 'app',\n",
       " 'destroying',\n",
       " 'life',\n",
       " 'many',\n",
       " 'shareholder',\n",
       " 'leaving',\n",
       " 'police',\n",
       " 'sacco',\n",
       " 'poor',\n",
       " 'service',\n",
       " 'worst',\n",
       " 'app',\n",
       " 'ever',\n",
       " 'withdrawal',\n",
       " 'yesterday',\n",
       " 'police',\n",
       " 'sacco',\n",
       " 'account',\n",
       " 'using',\n",
       " 'app',\n",
       " 'hr',\n",
       " 'money',\n",
       " 'hasnt',\n",
       " 'disbursed',\n",
       " 'mpesa',\n",
       " 'account',\n",
       " 'yet',\n",
       " 'reversal',\n",
       " 'done',\n",
       " 'people',\n",
       " 'made',\n",
       " 'life',\n",
       " 'difficult',\n",
       " 'police',\n",
       " 'officer',\n",
       " 'hardship',\n",
       " 'area',\n",
       " 'access',\n",
       " 'account',\n",
       " 'online',\n",
       " 'go',\n",
       " 'back',\n",
       " 'came',\n",
       " 'nkt',\n",
       " 'useles',\n",
       " 'pathetic',\n",
       " 'app',\n",
       " 'slow',\n",
       " 'weak',\n",
       " 'total',\n",
       " 'dissapointmentnot',\n",
       " 'showing',\n",
       " 'balancesnot',\n",
       " 'showing',\n",
       " 'rate',\n",
       " 'balance',\n",
       " 'loanshii',\n",
       " 'police',\n",
       " 'sacco',\n",
       " 'tutahama',\n",
       " 'nightmare',\n",
       " 'kindly',\n",
       " 'repair',\n",
       " 'ityou',\n",
       " 'cant',\n",
       " 'take',\n",
       " 'advancebalance',\n",
       " 'q',\n",
       " 'chashworst',\n",
       " 'rudisheni',\n",
       " 'ile',\n",
       " 'mwanzo',\n",
       " 'nice',\n",
       " 'efficient',\n",
       " 'use',\n",
       " 'feature',\n",
       " 'keep',\n",
       " 'getting',\n",
       " 'better',\n",
       " 'excellent',\n",
       " 'every',\n",
       " 'time',\n",
       " 'log',\n",
       " 'asks',\n",
       " 'update',\n",
       " 'take',\n",
       " 'age',\n",
       " 'download',\n",
       " 'working',\n",
       " 'fullestit',\n",
       " 'possible',\n",
       " 'login',\n",
       " 'poor',\n",
       " 'connectivity',\n",
       " 'something',\n",
       " 'must',\n",
       " 'done',\n",
       " 'app',\n",
       " 'meant',\n",
       " 'help',\n",
       " 'otherwise',\n",
       " 'disappointing',\n",
       " 'indeed',\n",
       " 'irrelevant',\n",
       " 'useless',\n",
       " 'app',\n",
       " 'ever',\n",
       " 'came',\n",
       " 'across',\n",
       " 'developer',\n",
       " 'app',\n",
       " 'tell',\n",
       " 'u',\n",
       " 'use',\n",
       " 'whenever',\n",
       " 'try',\n",
       " 'use',\n",
       " 'enter',\n",
       " 'telephone',\n",
       " 'registered',\n",
       " 'mtawi',\n",
       " 'numberi',\n",
       " 'receive',\n",
       " 'certain',\n",
       " 'code',\n",
       " 'dont',\n",
       " 'know',\n",
       " 'put',\n",
       " 'bcosthe',\n",
       " 'app',\n",
       " 'continuously',\n",
       " 'sending',\n",
       " 'code',\n",
       " 'every',\n",
       " 'time',\n",
       " 'good',\n",
       " 'app',\n",
       " 'good',\n",
       " 'app',\n",
       " 'want',\n",
       " 'fosa',\n",
       " 'account',\n",
       " 'number',\n",
       " 'plus',\n",
       " 'paybill',\n",
       " 'number',\n",
       " 'poor',\n",
       " 'functionality',\n",
       " 'give',\n",
       " 'error',\n",
       " 'message',\n",
       " 'app',\n",
       " 'really',\n",
       " 'functioning',\n",
       " 'good',\n",
       " 'nice',\n",
       " 'app',\n",
       " 'failing',\n",
       " 'time',\n",
       " 'fantastic',\n",
       " 'slow',\n",
       " 'boring',\n",
       " 'dont',\n",
       " 'like',\n",
       " 'fine',\n",
       " 'need',\n",
       " 'improvement',\n",
       " 'nice',\n",
       " 'app',\n",
       " 'good',\n",
       " 'boring',\n",
       " 'dont',\n",
       " 'try',\n",
       " 'stop',\n",
       " 'updating',\n",
       " 'issue',\n",
       " 'better',\n",
       " 'good',\n",
       " 'cant',\n",
       " 'launch',\n",
       " 'saying',\n",
       " 'phone',\n",
       " 'rooted',\n",
       " 'yet',\n",
       " 'rooted',\n",
       " 'unreliable',\n",
       " 'excellent',\n",
       " 'first',\n",
       " 'app',\n",
       " 'ave',\n",
       " 'seen',\n",
       " 'charge',\n",
       " 'kshs',\n",
       " 'simple',\n",
       " 'login',\n",
       " 'guess',\n",
       " 'hidden',\n",
       " 'charge',\n",
       " 'indicated',\n",
       " 'apps',\n",
       " 'first',\n",
       " 'page',\n",
       " 'disclaimer',\n",
       " 'cool',\n",
       " 'serving',\n",
       " 'well',\n",
       " 'unpredictable',\n",
       " 'app',\n",
       " 'new',\n",
       " 'dawn',\n",
       " 'confort',\n",
       " 'seamless',\n",
       " 'bankingtaking',\n",
       " 'virtual',\n",
       " 'banking',\n",
       " 'rd',\n",
       " 'century',\n",
       " 'fast',\n",
       " 'efficient',\n",
       " 'good',\n",
       " 'innovation',\n",
       " 'nice',\n",
       " 'app',\n",
       " 'one',\n",
       " 'useless',\n",
       " 'apps',\n",
       " 'ive',\n",
       " 'ever',\n",
       " 'come',\n",
       " 'across',\n",
       " 'life',\n",
       " 'stupid',\n",
       " 'onehow',\n",
       " 'earth',\n",
       " 'one',\n",
       " 'qualification',\n",
       " 'sit',\n",
       " 'develop',\n",
       " 'terrible',\n",
       " 'appevery',\n",
       " 'time',\n",
       " 'crushesnow',\n",
       " 'brings',\n",
       " 'pop',\n",
       " 'changed',\n",
       " 'device',\n",
       " 'dont',\n",
       " 'joke',\n",
       " 'hard',\n",
       " 'earned',\n",
       " 'coin',\n",
       " 'update',\n",
       " 'fckng',\n",
       " 'app',\n",
       " 'everyday',\n",
       " 'good',\n",
       " 'asks',\n",
       " 'update',\n",
       " 'daysnot',\n",
       " 'really',\n",
       " 'good',\n",
       " 'great',\n",
       " 'sucksi',\n",
       " 'hv',\n",
       " 'keep',\n",
       " 'updating',\n",
       " 'time',\n",
       " 'nothing',\n",
       " 'good',\n",
       " 'reliable',\n",
       " 'good',\n",
       " 'sometimes',\n",
       " 'back',\n",
       " 'immediately',\n",
       " 'changed',\n",
       " 'phonei',\n",
       " 'understood',\n",
       " 'appwhy',\n",
       " 'earth',\n",
       " 'visit',\n",
       " 'nearest',\n",
       " 'branch',\n",
       " 'know',\n",
       " 'authenticity',\n",
       " 'code',\n",
       " 'previous',\n",
       " 'phone',\n",
       " 'number',\n",
       " 'still',\n",
       " 'samewhere',\n",
       " 'nearest',\n",
       " 'branch',\n",
       " 'mandera',\n",
       " 'somebody',\n",
       " 'explain',\n",
       " 'best',\n",
       " 'app',\n",
       " 'ever',\n",
       " 'developer',\n",
       " 'good',\n",
       " 'job',\n",
       " 'think',\n",
       " 'member',\n",
       " 'dont',\n",
       " 'understand',\n",
       " 'app',\n",
       " 'useful',\n",
       " 'poor',\n",
       " 'app',\n",
       " 'keep',\n",
       " 'restarting',\n",
       " 'reliable',\n",
       " 'speed',\n",
       " 'transaction',\n",
       " 'dissapointing',\n",
       " 'fantastic',\n",
       " 'helpful',\n",
       " 'app',\n",
       " 'useless',\n",
       " 'take',\n",
       " 'hour',\n",
       " 'download',\n",
       " 'sheiii',\n",
       " 'every',\n",
       " 'time',\n",
       " 'open',\n",
       " 'app',\n",
       " 'show',\n",
       " 'unfortunately',\n",
       " 'app',\n",
       " 'stopped',\n",
       " 'reinstall',\n",
       " 'open',\n",
       " 'matter',\n",
       " 'wow',\n",
       " 'best',\n",
       " 'simply',\n",
       " 'best',\n",
       " 'nice',\n",
       " 'app',\n",
       " 'sometimes',\n",
       " 'dilays',\n",
       " 'efficient',\n",
       " 'easy',\n",
       " 'use',\n",
       " 'super',\n",
       " 'good',\n",
       " 'give',\n",
       " 'u',\n",
       " 'link',\n",
       " 'download',\n",
       " 'easily',\n",
       " 'app',\n",
       " 'confirm',\n",
       " 'sending',\n",
       " 'u',\n",
       " 'message',\n",
       " 'mobile',\n",
       " 'phns',\n",
       " 'hii',\n",
       " 'page',\n",
       " 'yenu',\n",
       " 'ama',\n",
       " 'hii',\n",
       " 'ndio',\n",
       " 'ile',\n",
       " 'pambazuka',\n",
       " 'tulikuwa',\n",
       " 'tunangojea',\n",
       " 'app',\n",
       " 'kenyapolicesacco',\n",
       " 'explain',\n",
       " 'u',\n",
       " 'difference',\n",
       " 'msacco',\n",
       " 'hii',\n",
       " 'mtawikindly',\n",
       " 'plz',\n",
       " 'app',\n",
       " 'working',\n",
       " 'work',\n",
       " 'safcom',\n",
       " 'line',\n",
       " 'even',\n",
       " 'airtel',\n",
       " 'work',\n",
       " 'cant',\n",
       " 'get',\n",
       " 'app',\n",
       " 'play',\n",
       " 'storemsacco',\n",
       " 'app',\n",
       " 'delete',\n",
       " 'ama',\n",
       " 'good',\n",
       " 'waachanges',\n",
       " 'tawi',\n",
       " 'nayo',\n",
       " 'humaanisha',\n",
       " 'waah',\n",
       " 'hatutumii',\n",
       " 'sacco',\n",
       " 'io',\n",
       " 'kitu',\n",
       " 'haifanyi',\n",
       " 'bona',\n",
       " 'mlinikata',\n",
       " 'k',\n",
       " 'naenda',\n",
       " 'kcb',\n",
       " 'hii',\n",
       " 'kitu',\n",
       " 'haifanyi',\n",
       " 'mnalipa',\n",
       " 'lini',\n",
       " 'hii',\n",
       " 'log',\n",
       " 'pin',\n",
       " 'inaitisha',\n",
       " 'ngani',\n",
       " 'hii',\n",
       " 'login',\n",
       " 'pin',\n",
       " 'inaitisha',\n",
       " 'ndio',\n",
       " 'gani',\n",
       " 'turudishiwe',\n",
       " 'u',\n",
       " 'download',\n",
       " 'app',\n",
       " 'guy',\n",
       " 'heri',\n",
       " 'hii',\n",
       " 'ingine',\n",
       " 'imegoma',\n",
       " 'wamenikata',\n",
       " 'tutahama',\n",
       " 'hii',\n",
       " 'sacco',\n",
       " 'upuzi',\n",
       " 'akufukuzae',\n",
       " 'hakuambii',\n",
       " 'toka',\n",
       " 'iam',\n",
       " 'facing',\n",
       " 'challenge',\n",
       " 'wacha',\n",
       " 'jaribuahaaa',\n",
       " 'one',\n",
       " 'useless',\n",
       " 'app',\n",
       " 'sacco',\n",
       " 'choicembeleikosawa',\n",
       " 'introduce',\n",
       " 'know',\n",
       " 'working',\n",
       " 'properly',\n",
       " 'give',\n",
       " 'people',\n",
       " 'better',\n",
       " 'service',\n",
       " 'deserve',\n",
       " 'official',\n",
       " 'must',\n",
       " 'respond',\n",
       " 'question',\n",
       " 'elseju',\n",
       " 'tuko',\n",
       " 'giza',\n",
       " 'hi',\n",
       " 'kucheza',\n",
       " 'peza',\n",
       " 'member',\n",
       " 'haifanyi',\n",
       " 'turudishie',\n",
       " 'zamani',\n",
       " 'tried',\n",
       " 'register',\n",
       " 'online',\n",
       " 'downloading',\n",
       " 'app',\n",
       " 'vive',\n",
       " 'device',\n",
       " 'code',\n",
       " 'tried',\n",
       " 'enter',\n",
       " 'keep',\n",
       " 'telling',\n",
       " 'otp',\n",
       " 'correct',\n",
       " 'tawi',\n",
       " 'thing',\n",
       " 'workingyou',\n",
       " 'inconveniencing',\n",
       " 'u',\n",
       " 'pleasewhats',\n",
       " 'way',\n",
       " 'forward',\n",
       " 'poor',\n",
       " 'network',\n",
       " 'especially',\n",
       " 'pay',\n",
       " 'loan',\n",
       " 'deposited',\n",
       " 'cant',\n",
       " 'pay',\n",
       " 'loan',\n",
       " 'imekataa',\n",
       " 'u',\n",
       " 'launch',\n",
       " 'something',\n",
       " 'working',\n",
       " 'like',\n",
       " 'seriously',\n",
       " 'failedsi',\n",
       " 'tulipwe',\n",
       " 'mpesa',\n",
       " 'tutoke',\n",
       " 'hizi',\n",
       " 'vitu',\n",
       " 'kudelay',\n",
       " 'mtu',\n",
       " 'fully',\n",
       " 'operational',\n",
       " 'congratulation',\n",
       " 'sacco',\n",
       " 'nguvu',\n",
       " 'indeed',\n",
       " 'leteni',\n",
       " 'yenye',\n",
       " 'tulizoea',\n",
       " 'working',\n",
       " 'shida',\n",
       " 'tupu',\n",
       " 'wrong',\n",
       " 'code',\n",
       " 'cant',\n",
       " 'withdraw',\n",
       " 'im',\n",
       " 'balambala',\n",
       " 'mwisho',\n",
       " 'mawazo',\n",
       " 'app',\n",
       " 'non',\n",
       " 'responsive',\n",
       " 'cant',\n",
       " 'activate',\n",
       " 'get',\n",
       " 'customer',\n",
       " 'registered',\n",
       " 'msacco',\n",
       " 'better',\n",
       " 'cant',\n",
       " 'even',\n",
       " 'use',\n",
       " 'cant',\n",
       " 'get',\n",
       " 'app',\n",
       " 'apstore',\n",
       " 'whats',\n",
       " 'wrong',\n",
       " 'plz',\n",
       " 'make',\n",
       " 'possible',\n",
       " 'u',\n",
       " 'access',\n",
       " 'money',\n",
       " 'bill',\n",
       " 'pay',\n",
       " 'app',\n",
       " 'yenu',\n",
       " 'haitusaidii',\n",
       " 'sacco',\n",
       " 'ussd',\n",
       " 'available',\n",
       " 'nimedownload',\n",
       " 'app',\n",
       " 'trying',\n",
       " 'log',\n",
       " 'inasema',\n",
       " 'customer',\n",
       " 'code',\n",
       " 'found',\n",
       " 'help',\n",
       " 'help',\n",
       " 'unfortunately',\n",
       " 'number',\n",
       " 'already',\n",
       " 'registered',\n",
       " 'get',\n",
       " 'started',\n",
       " 'hii',\n",
       " 'ndio',\n",
       " 'gani',\n",
       " 'happening',\n",
       " 'sacco',\n",
       " 'new',\n",
       " 'code',\n",
       " 'away',\n",
       " 'hacking',\n",
       " 'member',\n",
       " 'accountspse',\n",
       " 'sacco',\n",
       " 'advice',\n",
       " 'mtawi',\n",
       " 'convincing',\n",
       " 'member',\n",
       " 'away',\n",
       " 'n',\n",
       " 'utaeza',\n",
       " 'pata',\n",
       " 'loan',\n",
       " 'advance',\n",
       " 'hii',\n",
       " 'qcash',\n",
       " 'ndio',\n",
       " 'kuangalia',\n",
       " 'guarantor',\n",
       " 'itakua',\n",
       " 'ajes',\n",
       " 'hustler',\n",
       " 'n',\n",
       " 'join',\n",
       " 'kp',\n",
       " 'system',\n",
       " 'working',\n",
       " 'release',\n",
       " 'new',\n",
       " 'package',\n",
       " 'ready',\n",
       " 'pathetic',\n",
       " 'currently',\n",
       " 'available',\n",
       " 'mbona',\n",
       " 'cleared',\n",
       " 'normal',\n",
       " 'loan',\n",
       " 'refund',\n",
       " 'heyhave',\n",
       " 'trying',\n",
       " 'make',\n",
       " 'withdrawal',\n",
       " 'long',\n",
       " 'last',\n",
       " 'fails',\n",
       " 'notification',\n",
       " 'ssd',\n",
       " 'short',\n",
       " 'code',\n",
       " 'doesnt',\n",
       " 'existwhats',\n",
       " 'happeningam',\n",
       " 'stranded',\n",
       " 'nataka',\n",
       " 'pesa',\n",
       " 'haifanyi',\n",
       " 'self',\n",
       " 'registration',\n",
       " 'imekataa',\n",
       " 'pliz',\n",
       " 'assist',\n",
       " 'hizo',\n",
       " 'zote',\n",
       " 'hazifanyi',\n",
       " 'working',\n",
       " 'kitu',\n",
       " 'iko',\n",
       " 'sawa',\n",
       " 'activation',\n",
       " 'easy',\n",
       " 'app',\n",
       " 'doesnt',\n",
       " 'work',\n",
       " 'check',\n",
       " 'loan',\n",
       " 'balance',\n",
       " 'yesterday',\n",
       " 'deposited',\n",
       " 'account',\n",
       " 'using',\n",
       " 'pay',\n",
       " 'bill',\n",
       " 'aijereflect',\n",
       " 'pay',\n",
       " 'bill',\n",
       " 'n',\n",
       " 'different',\n",
       " 'tawi',\n",
       " 'inamaanisha',\n",
       " 'kindly',\n",
       " 'happy',\n",
       " 'new',\n",
       " 'dawn',\n",
       " 'however',\n",
       " 'ussd',\n",
       " 'code',\n",
       " 'available',\n",
       " 'thus',\n",
       " 'inconveniencing',\n",
       " 'member',\n",
       " 'want',\n",
       " 'widraw',\n",
       " 'money',\n",
       " 'mpesa',\n",
       " 'kindly',\n",
       " 'check',\n",
       " 'anomaly',\n",
       " 'ussd',\n",
       " 'code',\n",
       " 'available',\n",
       " 'whats',\n",
       " ...]"
      ]
     },
     "execution_count": 44,
     "metadata": {},
     "output_type": "execute_result"
    }
   ],
   "source": [
    "# create a list of all the words\n",
    "all_words = []\n",
    "\n",
    "for comment in lemmatized_comments:\n",
    "    for word in comment:\n",
    "        all_words.append(word)\n",
    "\n",
    "all_words"
   ]
  },
  {
   "cell_type": "code",
   "execution_count": 45,
   "metadata": {},
   "outputs": [
    {
     "data": {
      "text/plain": [
       "[('app', 80),\n",
       " ('working', 31),\n",
       " ('hii', 28),\n",
       " ('cant', 26),\n",
       " ('good', 24),\n",
       " ('sacco', 23),\n",
       " ('code', 22),\n",
       " ('account', 19),\n",
       " ('u', 19),\n",
       " ('time', 15),\n",
       " ('balance', 11),\n",
       " ('msacco', 11),\n",
       " ('police', 10),\n",
       " ('get', 10),\n",
       " ('one', 10),\n",
       " ('new', 10),\n",
       " ('member', 10),\n",
       " ('tawi', 10),\n",
       " ('like', 9),\n",
       " ('money', 9),\n",
       " ('use', 9),\n",
       " ('mpesa', 9),\n",
       " ('pin', 9),\n",
       " ('loan', 9),\n",
       " ('whats', 9),\n",
       " ('pesa', 9),\n",
       " ('keep', 8),\n",
       " ('even', 8),\n",
       " ('ussd', 8),\n",
       " ('service', 8),\n",
       " ('useless', 8),\n",
       " ('nice', 8),\n",
       " ('access', 8),\n",
       " ('registered', 7),\n",
       " ('mtawi', 7),\n",
       " ('poor', 7),\n",
       " ('yet', 7),\n",
       " ('dont', 7),\n",
       " ('help', 7),\n",
       " ('haifanyi', 7),\n",
       " ('tried', 7),\n",
       " ('wrong', 7),\n",
       " ('system', 7),\n",
       " ('update', 6),\n",
       " ('activate', 6),\n",
       " ('customer', 6),\n",
       " ('plz', 6),\n",
       " ('activation', 6),\n",
       " ('first', 6),\n",
       " ('thing', 6),\n",
       " ('take', 6),\n",
       " ('need', 6),\n",
       " ('showing', 6),\n",
       " ('better', 6),\n",
       " ('download', 6),\n",
       " ('number', 6),\n",
       " ('deposited', 6),\n",
       " ('available', 6),\n",
       " ('n', 6),\n",
       " ('cash', 6),\n",
       " ('bill', 5),\n",
       " ('fast', 5),\n",
       " ('efficient', 5),\n",
       " ('problem', 5),\n",
       " ('excellent', 5),\n",
       " ('login', 5),\n",
       " ('go', 5),\n",
       " ('nothing', 5),\n",
       " ('phone', 5),\n",
       " ('last', 5),\n",
       " ('best', 5),\n",
       " ('yesterday', 5),\n",
       " ('using', 5),\n",
       " ('back', 5),\n",
       " ('kindly', 5),\n",
       " ('give', 5),\n",
       " ('still', 5),\n",
       " ('work', 5),\n",
       " ('play', 5),\n",
       " ('kitu', 5),\n",
       " ('pay', 5),\n",
       " ('iko', 5),\n",
       " ('change', 5),\n",
       " ('great', 4),\n",
       " ('application', 4),\n",
       " ('downloading', 4),\n",
       " ('option', 4),\n",
       " ('open', 4),\n",
       " ('sm', 4),\n",
       " ('worst', 4),\n",
       " ('changed', 4),\n",
       " ('see', 4),\n",
       " ('way', 4),\n",
       " ('previous', 4),\n",
       " ('show', 4),\n",
       " ('total', 4),\n",
       " ('im', 4),\n",
       " ('ever', 4),\n",
       " ('log', 4),\n",
       " ('yenu', 4),\n",
       " ('ama', 4),\n",
       " ('ndio', 4),\n",
       " ('gani', 4),\n",
       " ('imekataa', 4),\n",
       " ('shida', 4),\n",
       " ('advance', 4),\n",
       " ('qcash', 4),\n",
       " ('since', 4),\n",
       " ('coz', 4),\n",
       " ('please', 3),\n",
       " ('slow', 3),\n",
       " ('call', 3),\n",
       " ('response', 3),\n",
       " ('already', 3),\n",
       " ('error', 3),\n",
       " ('functioning', 3),\n",
       " ('downloaded', 3),\n",
       " ('sending', 3),\n",
       " ('start', 3),\n",
       " ('reliable', 3),\n",
       " ('away', 3),\n",
       " ('device', 3),\n",
       " ('apps', 3),\n",
       " ('long', 3),\n",
       " ('feature', 3),\n",
       " ('love', 3),\n",
       " ('otp', 3),\n",
       " ('updating', 3),\n",
       " ('people', 3),\n",
       " ('short', 3),\n",
       " ('life', 3),\n",
       " ('withdrawal', 3),\n",
       " ('done', 3),\n",
       " ('officer', 3),\n",
       " ('area', 3),\n",
       " ('tutahama', 3),\n",
       " ('every', 3),\n",
       " ('something', 3),\n",
       " ('disappointing', 3),\n",
       " ('try', 3),\n",
       " ('enter', 3),\n",
       " ('know', 3),\n",
       " ('put', 3),\n",
       " ('really', 3),\n",
       " ('issue', 3),\n",
       " ('saying', 3),\n",
       " ('dawn', 3),\n",
       " ('line', 3),\n",
       " ('inaitisha', 3),\n",
       " ('heri', 3),\n",
       " ('network', 3),\n",
       " ('trying', 3),\n",
       " ('currently', 3),\n",
       " ('assist', 3),\n",
       " ('check', 3),\n",
       " ('hakuna', 3),\n",
       " ('store', 3),\n",
       " ('matawi', 3),\n",
       " ('supposed', 3),\n",
       " ('blocked', 3),\n",
       " ('mturudishie', 3),\n",
       " ('acc', 3),\n",
       " ('deposit', 3),\n",
       " ('week', 3),\n",
       " ('next', 2),\n",
       " ('pambazuka', 2),\n",
       " ('airtel', 2),\n",
       " ('introduce', 2),\n",
       " ('well', 2),\n",
       " ('easily', 2),\n",
       " ('assistance', 2),\n",
       " ('another', 2),\n",
       " ('non', 2),\n",
       " ('responsive', 2),\n",
       " ('everytime', 2),\n",
       " ('fullest', 2),\n",
       " ('responding', 2),\n",
       " ('b', 2),\n",
       " ('return', 2),\n",
       " ('cycle', 2),\n",
       " ('product', 2),\n",
       " ('seamless', 2),\n",
       " ('oops', 2),\n",
       " ('havent', 2),\n",
       " ('useful', 2),\n",
       " ('ssd', 2),\n",
       " ('logged', 2),\n",
       " ('thus', 2),\n",
       " ('think', 2),\n",
       " ('speed', 2),\n",
       " ('receive', 2),\n",
       " ('never', 2),\n",
       " ('meant', 2),\n",
       " ('due', 2),\n",
       " ('isnt', 2),\n",
       " ('tired', 2),\n",
       " ('otherwise', 2),\n",
       " ('terrible', 2),\n",
       " ('difficult', 2),\n",
       " ('online', 2),\n",
       " ('came', 2),\n",
       " ('nkt', 2),\n",
       " ('pathetic', 2),\n",
       " ('q', 2),\n",
       " ('ile', 2),\n",
       " ('asks', 2),\n",
       " ('possible', 2),\n",
       " ('must', 2),\n",
       " ('indeed', 2),\n",
       " ('across', 2),\n",
       " ('developer', 2),\n",
       " ('certain', 2),\n",
       " ('want', 2),\n",
       " ('fosa', 2),\n",
       " ('paybill', 2),\n",
       " ('message', 2),\n",
       " ('fantastic', 2),\n",
       " ('boring', 2),\n",
       " ('launch', 2),\n",
       " ('rooted', 2),\n",
       " ('charge', 2),\n",
       " ('page', 2),\n",
       " ('banking', 2),\n",
       " ('innovation', 2),\n",
       " ('ive', 2),\n",
       " ('come', 2),\n",
       " ('earth', 2),\n",
       " ('sometimes', 2),\n",
       " ('nearest', 2),\n",
       " ('branch', 2),\n",
       " ('explain', 2),\n",
       " ('transaction', 2),\n",
       " ('unfortunately', 2),\n",
       " ('easy', 2),\n",
       " ('link', 2),\n",
       " ('confirm', 2),\n",
       " ('mobile', 2),\n",
       " ('difference', 2),\n",
       " ('delete', 2),\n",
       " ('guy', 2),\n",
       " ('upuzi', 2),\n",
       " ('challenge', 2),\n",
       " ('respond', 2),\n",
       " ('tuko', 2),\n",
       " ('giza', 2),\n",
       " ('turudishie', 2),\n",
       " ('inconveniencing', 2),\n",
       " ('mtu', 2),\n",
       " ('tupu', 2),\n",
       " ('withdraw', 2),\n",
       " ('make', 2),\n",
       " ('started', 2),\n",
       " ('advice', 2),\n",
       " ('mbona', 2),\n",
       " ('doesnt', 2),\n",
       " ('sawa', 2),\n",
       " ('inamaanisha', 2),\n",
       " ('move', 2),\n",
       " ('mean', 2),\n",
       " ('naweza', 2),\n",
       " ('wo', 2),\n",
       " ('informing', 2),\n",
       " ('someone', 2),\n",
       " ('platform', 2),\n",
       " ('alot', 2),\n",
       " ('almost', 2),\n",
       " ('kenya', 2),\n",
       " ('dint', 2),\n",
       " ('look', 2),\n",
       " ('two', 2),\n",
       " ('day', 2),\n",
       " ('unavailable', 2),\n",
       " ('far', 2),\n",
       " ('allow', 2),\n",
       " ('atm', 2),\n",
       " ('salary', 2),\n",
       " ('amount', 2),\n",
       " ('jana', 2),\n",
       " ('zero', 2),\n",
       " ('safaricom', 2),\n",
       " ('haijafika', 2),\n",
       " ('morning', 2),\n",
       " ('asking', 2),\n",
       " ('yetu', 2),\n",
       " ('iyo', 2),\n",
       " ('view', 2),\n",
       " ('kuactivate', 2),\n",
       " ('registering', 2),\n",
       " ('pls', 2),\n",
       " ('tuesday', 2),\n",
       " ('av', 2),\n",
       " ('didnt', 2),\n",
       " ('reflect', 2),\n",
       " ('might', 2),\n",
       " ('bt', 2),\n",
       " ('confirmation', 2),\n",
       " ('slick', 1),\n",
       " ('taking', 1),\n",
       " ('business', 1),\n",
       " ('level', 1),\n",
       " ('kudos', 1),\n",
       " ('kume', 1),\n",
       " ('paying', 1),\n",
       " ('introduction', 1),\n",
       " ('fingerprint', 1),\n",
       " ('installed', 1),\n",
       " ('crack', 1),\n",
       " ('unresponsive', 1),\n",
       " ('stressful', 1),\n",
       " ('care', 1),\n",
       " ('find', 1),\n",
       " ('ugly', 1),\n",
       " ('eish', 1),\n",
       " ('activatedfix', 1),\n",
       " ('marvelous', 1),\n",
       " ('brilliant', 1),\n",
       " ('journey', 1),\n",
       " ('offered', 1),\n",
       " ('explore', 1),\n",
       " ('automate', 1),\n",
       " ('figure', 1),\n",
       " ('becomes', 1),\n",
       " ('developed', 1),\n",
       " ('nonresponsivei', 1),\n",
       " ('wonder', 1),\n",
       " ('m_sacco', 1),\n",
       " ('youve', 1),\n",
       " ('yr', 1),\n",
       " ('rubbish', 1),\n",
       " ('quality', 1),\n",
       " ('unstable', 1),\n",
       " ('occupies', 1),\n",
       " ('space', 1),\n",
       " ('full', 1),\n",
       " ('locking', 1),\n",
       " ('calling', 1),\n",
       " ('timei', 1),\n",
       " ('consuming', 1),\n",
       " ('waste', 1),\n",
       " ('resource', 1),\n",
       " ('simplicity', 1),\n",
       " ('accessing', 1),\n",
       " ('info', 1),\n",
       " ('inefficient', 1),\n",
       " ('logging', 1),\n",
       " ('hence', 1),\n",
       " ('consumes', 1),\n",
       " ('bundle', 1),\n",
       " ('used', 1),\n",
       " ('mkona', 1),\n",
       " ('kaufala', 1),\n",
       " ('fulaniwill', 1),\n",
       " ('edit', 1),\n",
       " ('always', 1),\n",
       " ('invalid', 1),\n",
       " ('east', 1),\n",
       " ('central', 1),\n",
       " ('africa', 1),\n",
       " ('crushing', 1),\n",
       " ('failure', 1),\n",
       " ('important', 1),\n",
       " ('shame', 1),\n",
       " ('modification', 1),\n",
       " ('place', 1),\n",
       " ('whatsoeveralso', 1),\n",
       " ('close', 1),\n",
       " ('world', 1),\n",
       " ('roll', 1),\n",
       " ('finished', 1),\n",
       " ('daily', 1),\n",
       " ('suggestion', 1),\n",
       " ('beta', 1),\n",
       " ('test', 1),\n",
       " ('releasing', 1),\n",
       " ('mass', 1),\n",
       " ('jesus', 1),\n",
       " ('except', 1),\n",
       " ('bug', 1),\n",
       " ('okay', 1),\n",
       " ('appthey', 1),\n",
       " ('jst', 1),\n",
       " ('scumthis', 1),\n",
       " ('let', 1),\n",
       " ('everybody', 1),\n",
       " ('wider', 1),\n",
       " ('volume', 1),\n",
       " ('fake', 1),\n",
       " ('destroying', 1),\n",
       " ('many', 1),\n",
       " ('shareholder', 1),\n",
       " ('leaving', 1),\n",
       " ('hr', 1),\n",
       " ('hasnt', 1),\n",
       " ('disbursed', 1),\n",
       " ('reversal', 1),\n",
       " ('made', 1),\n",
       " ('hardship', 1),\n",
       " ('useles', 1),\n",
       " ('weak', 1),\n",
       " ('dissapointmentnot', 1),\n",
       " ('balancesnot', 1),\n",
       " ('rate', 1),\n",
       " ('loanshii', 1),\n",
       " ('nightmare', 1),\n",
       " ('repair', 1),\n",
       " ('ityou', 1),\n",
       " ('advancebalance', 1),\n",
       " ('chashworst', 1),\n",
       " ('rudisheni', 1),\n",
       " ('mwanzo', 1),\n",
       " ('getting', 1),\n",
       " ('age', 1),\n",
       " ('fullestit', 1),\n",
       " ('connectivity', 1),\n",
       " ('irrelevant', 1),\n",
       " ('tell', 1),\n",
       " ('whenever', 1),\n",
       " ('telephone', 1),\n",
       " ('numberi', 1),\n",
       " ('bcosthe', 1),\n",
       " ('continuously', 1),\n",
       " ('plus', 1),\n",
       " ('functionality', 1),\n",
       " ('failing', 1),\n",
       " ('fine', 1),\n",
       " ('improvement', 1),\n",
       " ('stop', 1),\n",
       " ('unreliable', 1),\n",
       " ('ave', 1),\n",
       " ('seen', 1),\n",
       " ('kshs', 1),\n",
       " ('simple', 1),\n",
       " ('guess', 1),\n",
       " ('hidden', 1),\n",
       " ('indicated', 1),\n",
       " ('disclaimer', 1),\n",
       " ('cool', 1),\n",
       " ('serving', 1),\n",
       " ('unpredictable', 1),\n",
       " ('confort', 1),\n",
       " ('bankingtaking', 1),\n",
       " ('virtual', 1),\n",
       " ('rd', 1),\n",
       " ('century', 1),\n",
       " ('stupid', 1),\n",
       " ('onehow', 1),\n",
       " ('qualification', 1),\n",
       " ('sit', 1),\n",
       " ('develop', 1),\n",
       " ('appevery', 1),\n",
       " ('crushesnow', 1),\n",
       " ('brings', 1),\n",
       " ('pop', 1),\n",
       " ('joke', 1),\n",
       " ('hard', 1),\n",
       " ('earned', 1),\n",
       " ('coin', 1),\n",
       " ('fckng', 1),\n",
       " ('everyday', 1),\n",
       " ('daysnot', 1),\n",
       " ('sucksi', 1),\n",
       " ('hv', 1),\n",
       " ('immediately', 1),\n",
       " ('phonei', 1),\n",
       " ('understood', 1),\n",
       " ('appwhy', 1),\n",
       " ('visit', 1),\n",
       " ('authenticity', 1),\n",
       " ('samewhere', 1),\n",
       " ('mandera', 1),\n",
       " ('somebody', 1),\n",
       " ('job', 1),\n",
       " ('understand', 1),\n",
       " ('restarting', 1),\n",
       " ('dissapointing', 1),\n",
       " ('helpful', 1),\n",
       " ('hour', 1),\n",
       " ('sheiii', 1),\n",
       " ('stopped', 1),\n",
       " ('reinstall', 1),\n",
       " ('matter', 1),\n",
       " ('wow', 1),\n",
       " ('simply', 1),\n",
       " ('dilays', 1),\n",
       " ('super', 1),\n",
       " ('phns', 1),\n",
       " ('tulikuwa', 1),\n",
       " ('tunangojea', 1),\n",
       " ('kenyapolicesacco', 1),\n",
       " ('mtawikindly', 1),\n",
       " ('safcom', 1),\n",
       " ('storemsacco', 1),\n",
       " ('waachanges', 1),\n",
       " ('nayo', 1),\n",
       " ('humaanisha', 1),\n",
       " ('waah', 1),\n",
       " ('hatutumii', 1),\n",
       " ('io', 1),\n",
       " ('bona', 1),\n",
       " ('mlinikata', 1),\n",
       " ('k', 1),\n",
       " ('naenda', 1),\n",
       " ('kcb', 1),\n",
       " ('mnalipa', 1),\n",
       " ('lini', 1),\n",
       " ('ngani', 1),\n",
       " ('turudishiwe', 1),\n",
       " ('ingine', 1),\n",
       " ('imegoma', 1),\n",
       " ('wamenikata', 1),\n",
       " ('akufukuzae', 1),\n",
       " ('hakuambii', 1),\n",
       " ('toka', 1),\n",
       " ('iam', 1),\n",
       " ('facing', 1),\n",
       " ('wacha', 1),\n",
       " ('jaribuahaaa', 1),\n",
       " ('choicembeleikosawa', 1),\n",
       " ('properly', 1),\n",
       " ('deserve', 1),\n",
       " ('official', 1),\n",
       " ('question', 1),\n",
       " ('elseju', 1),\n",
       " ('hi', 1),\n",
       " ('kucheza', 1),\n",
       " ('peza', 1),\n",
       " ('zamani', 1),\n",
       " ('register', 1),\n",
       " ('vive', 1),\n",
       " ('telling', 1),\n",
       " ('correct', 1),\n",
       " ('workingyou', 1),\n",
       " ('pleasewhats', 1),\n",
       " ('forward', 1),\n",
       " ('especially', 1),\n",
       " ('seriously', 1),\n",
       " ('failedsi', 1),\n",
       " ('tulipwe', 1),\n",
       " ('tutoke', 1),\n",
       " ('hizi', 1),\n",
       " ('vitu', 1),\n",
       " ('kudelay', 1),\n",
       " ('fully', 1),\n",
       " ('operational', 1),\n",
       " ('congratulation', 1),\n",
       " ('nguvu', 1),\n",
       " ('leteni', 1),\n",
       " ('yenye', 1),\n",
       " ('tulizoea', 1),\n",
       " ('balambala', 1),\n",
       " ('mwisho', 1),\n",
       " ('mawazo', 1),\n",
       " ('apstore', 1),\n",
       " ('haitusaidii', 1),\n",
       " ('nimedownload', 1),\n",
       " ('inasema', 1),\n",
       " ('found', 1),\n",
       " ('happening', 1),\n",
       " ('hacking', 1),\n",
       " ('accountspse', 1),\n",
       " ('convincing', 1),\n",
       " ('utaeza', 1),\n",
       " ('pata', 1),\n",
       " ('kuangalia', 1),\n",
       " ('guarantor', 1),\n",
       " ('itakua', 1),\n",
       " ('ajes', 1),\n",
       " ('hustler', 1),\n",
       " ('join', 1),\n",
       " ('kp', 1),\n",
       " ('release', 1),\n",
       " ('package', 1),\n",
       " ('ready', 1),\n",
       " ('cleared', 1),\n",
       " ('normal', 1),\n",
       " ('refund', 1),\n",
       " ('heyhave', 1),\n",
       " ('fails', 1),\n",
       " ('notification', 1),\n",
       " ('existwhats', 1),\n",
       " ('happeningam', 1),\n",
       " ('stranded', 1),\n",
       " ('nataka', 1),\n",
       " ('self', 1),\n",
       " ('registration', 1),\n",
       " ('pliz', 1),\n",
       " ('hizo', 1),\n",
       " ('zote', 1),\n",
       " ('hazifanyi', 1),\n",
       " ('aijereflect', 1),\n",
       " ('different', 1),\n",
       " ('happy', 1),\n",
       " ('however', 1),\n",
       " ('widraw', 1),\n",
       " ('anomaly', 1),\n",
       " ('awesomei', 1),\n",
       " ('dividend', 1),\n",
       " ('plse', 1),\n",
       " ('kucheck', 1),\n",
       " ('micro', 1),\n",
       " ('serviceable', 1),\n",
       " ('choice', 1),\n",
       " ('rely', 1),\n",
       " ('memberplz', 1),\n",
       " ('elaborate', 1),\n",
       " ('alafu', 1),\n",
       " ('nikitafta', 1),\n",
       " ('tano', 1),\n",
       " ('pewa', 1),\n",
       " ('ka', 1),\n",
       " ('sound', 1),\n",
       " ('remote', 1),\n",
       " ('coverage', 1),\n",
       " ('affected', 1),\n",
       " ('acquire', 1),\n",
       " ('google', 1),\n",
       " ('bouncing', 1),\n",
       " ('baby', 1),\n",
       " ('boy', 1),\n",
       " ('born', 1),\n",
       " ('mbele', 1),\n",
       " ('twasongawe', 1),\n",
       " ('united', 1),\n",
       " ('prosperity', 1),\n",
       " ('share', 1),\n",
       " ('true', 1),\n",
       " ('false', 1),\n",
       " ('imefanya', 1),\n",
       " ('nmekuwa', 1),\n",
       " ('wasiwasi', 1),\n",
       " ('kind', 1),\n",
       " ('shd', 1),\n",
       " ('send', 1),\n",
       " ('abt', 1),\n",
       " ('data', 1),\n",
       " ('transact', 1),\n",
       " ('happeningnkt', 1),\n",
       " ('mmeuza', 1),\n",
       " ('amaninini', 1),\n",
       " ('kazi', 1),\n",
       " ('aki', 1),\n",
       " ('shit', 1),\n",
       " ('pick', 1),\n",
       " ('reply', 1),\n",
       " ('email', 1),\n",
       " ('kurudi', 1),\n",
       " ('misri', 1),\n",
       " ('hope', 1),\n",
       " ('high', 1),\n",
       " ('naambiwa', 1),\n",
       " ('null', 1),\n",
       " ('least', 1),\n",
       " ('inafanya', 1),\n",
       " ('everything', 1),\n",
       " ('nullplease', 1),\n",
       " ('surprise', 1),\n",
       " ('dispite', 1),\n",
       " ('concern', 1),\n",
       " ('disable', 1),\n",
       " ('replace', 1),\n",
       " ('empty', 1),\n",
       " ('garget', 1),\n",
       " ('improve', 1),\n",
       " ('sure', 1),\n",
       " ('inform', 1),\n",
       " ('continue', 1),\n",
       " ('aint', 1),\n",
       " ('juzi', 1),\n",
       " ('received', 1),\n",
       " ('thingys', 1),\n",
       " ('whole', 1),\n",
       " ('hujuma', 1),\n",
       " ('yaani', 1),\n",
       " ('mumeamua', 1),\n",
       " ('watoto', 1),\n",
       " ('tuwapikie', 1),\n",
       " ('mawe', 1),\n",
       " ('soon', 1),\n",
       " ('bank', 1),\n",
       " ('hallo', 1),\n",
       " ('fix', 1),\n",
       " ('succesfully', 1),\n",
       " ('haitoi', 1),\n",
       " ('tutatoa', 1),\n",
       " ('aje', 1),\n",
       " ('surely', 1),\n",
       " ('haifanyiki', 1),\n",
       " ('ata', 1),\n",
       " ('wanatuma', 1),\n",
       " ('niko', 1),\n",
       " ('apply', 1),\n",
       " ('emergency', 1),\n",
       " ('vain', 1),\n",
       " ('suspended', 1),\n",
       " ('bcoz', 1),\n",
       " ('thingwe', 1),\n",
       " ('payyou', 1),\n",
       " ('enjoy', 1),\n",
       " ('sio', 1),\n",
       " ('hey', 1),\n",
       " ('via', 1),\n",
       " ('dear', 1),\n",
       " ('saccopesa', 1),\n",
       " ('zetu', 1),\n",
       " ('ziko', 1),\n",
       " ('wapi', 1),\n",
       " ('bring', 1),\n",
       " ('mmeenda', 1),\n",
       " ('mute', 1),\n",
       " ('reflecting', 1),\n",
       " ('accountkindly', 1),\n",
       " ('frustrating', 1),\n",
       " ('saccokwa', 1),\n",
       " ('nn', 1),\n",
       " ('mlireduce', 1),\n",
       " ('limit', 1),\n",
       " ('saa', 1),\n",
       " ('ii', 1),\n",
       " ('hijarefelect', 1),\n",
       " ('may', 1),\n",
       " ('ministatement', 1),\n",
       " ('complete', 1),\n",
       " ('side', 1),\n",
       " ('nilitoa', 1),\n",
       " ('ikarudisha', 1),\n",
       " ('nmetoa', 1),\n",
       " ('bado', 1),\n",
       " ('mpesai', 1),\n",
       " ('called', 1),\n",
       " ('told', 1),\n",
       " ('saccoam', 1),\n",
       " ('wondering', 1),\n",
       " ('nimejaribu', 1),\n",
       " ('kulipa', 1),\n",
       " ('inakataahii', 1),\n",
       " ('mpya', 1),\n",
       " ('nyingi', 1),\n",
       " ('paid', 1),\n",
       " ('penalise', 1),\n",
       " ('failed', 1),\n",
       " ('overdue', 1),\n",
       " ('patient', 1),\n",
       " ('nomalcy', 1),\n",
       " ('usable', 1),\n",
       " ('month', 1),\n",
       " ('unveiling', 1),\n",
       " ('spot', 1),\n",
       " ('mateso', 1),\n",
       " ('haki', 1),\n",
       " ('sys', 1),\n",
       " ('notify', 1),\n",
       " ('nyinyi', 1),\n",
       " ('imemute', 1),\n",
       " ('upuziwapi', 1),\n",
       " ('munataka', 1),\n",
       " ('kusaidia', 1),\n",
       " ('nani', 1),\n",
       " ('si', 1),\n",
       " ('sisi', 1),\n",
       " ('imehang', 1),\n",
       " ('imeenda', 1),\n",
       " ('maji', 1),\n",
       " ('kusema', 1),\n",
       " ('ukweli', 1),\n",
       " ('mumeniangusha', 1),\n",
       " ('haiwes', 1),\n",
       " ('haina', 1),\n",
       " ('vyenye', 1),\n",
       " ('danganya', 1),\n",
       " ('maasai', 1),\n",
       " ('mkash', 1),\n",
       " ('kwani', 1),\n",
       " ('ngapi', 1),\n",
       " ('unakula', 1),\n",
       " ('kichwa', 1),\n",
       " ('una', 1),\n",
       " ('umetumiwa', 1),\n",
       " ('ndiyo', 1),\n",
       " ('uweke', 1),\n",
       " ('yakoiko', 1),\n",
       " ('poa', 1),\n",
       " ('mob', 1),\n",
       " ('advertising', 1),\n",
       " ('else', 1),\n",
       " ('stuff', 1),\n",
       " ('imeweza', 1),\n",
       " ('mbaya', 1),\n",
       " ('kwanza', 1),\n",
       " ('inasumbua', 1),\n",
       " ('unatumiwa', 1),\n",
       " ('inakataa', 1),\n",
       " ('turufishieni', 1),\n",
       " ('thisthis', 1),\n",
       " ('scumsacco', 1),\n",
       " ('shud', 1),\n",
       " ('memberswith', 1),\n",
       " ('finance', 1),\n",
       " ('raised', 1),\n",
       " ('withrawing', 1),\n",
       " ('recieved', 1),\n",
       " ('transferred', 1),\n",
       " ('ago', 1),\n",
       " ('nanunua', 1),\n",
       " ('credit', 1),\n",
       " ('sina', 1),\n",
       " ('sun', 1),\n",
       " ('accountwhat', 1),\n",
       " ('cld', 1),\n",
       " ('activated', 1),\n",
       " ('mulika', 1),\n",
       " ('mwizi', 1),\n",
       " ('mphone', 1),\n",
       " ('ok', 1),\n",
       " ('activating', 1),\n",
       " ('asmart', 1),\n",
       " ('imenishinda', 1),\n",
       " ('inatuma', 1),\n",
       " ('nimeweka', 1),\n",
       " ('inazunguka', 1),\n",
       " ('sent', 1),\n",
       " ('form', 1),\n",
       " ('readthe', 1),\n",
       " ('mode', 1),\n",
       " ('continues', 1),\n",
       " ('dividence', 1),\n",
       " ('kuhama', 1),\n",
       " ('saccotaabu', 1),\n",
       " ('matatizohafadhali', 1),\n",
       " ('bought', 1),\n",
       " ('airtime', 1),\n",
       " ('haiko', 1),\n",
       " ('meanyour', 1),\n",
       " ('payroll', 1),\n",
       " ('detail', 1),\n",
       " ('organization', 1),\n",
       " ('withdrew', 1),\n",
       " ('effect', 1),\n",
       " ('portal', 1),\n",
       " ('amazing', 1),\n",
       " ('tunaumia', 1),\n",
       " ('afadhali', 1),\n",
       " ('hainitumii', 1),\n",
       " ('ikuji', 1),\n",
       " ('worse', 1),\n",
       " ('prefer', 1),\n",
       " ('mine', 1),\n",
       " ('rebranding', 1),\n",
       " ('g', 1),\n",
       " ('mainiiko', 1),\n",
       " ('finest', 1),\n",
       " ('detecting', 1),\n",
       " ('thanks', 1),\n",
       " ('updatei', 1),\n",
       " ('offer', 1),\n",
       " ('several', 1),\n",
       " ('say', 1),\n",
       " ('thats', 1),\n",
       " ('mhhhh', 1),\n",
       " ('anything', 1),\n",
       " ('mess', 1)]"
      ]
     },
     "execution_count": 45,
     "metadata": {},
     "output_type": "execute_result"
    }
   ],
   "source": [
    "# count of the most common words\n",
    "from collections import Counter\n",
    "word_counter = Counter(all_words)\n",
    "most_common_words = word_counter.most_common()\n",
    "most_common_words"
   ]
  },
  {
   "cell_type": "code",
   "execution_count": 17,
   "metadata": {},
   "outputs": [
    {
     "data": {
      "image/png": "[encoded data removed]",
      "text/plain": [
       "<Figure size 432x288 with 1 Axes>"
      ]
     },
     "metadata": {
      "needs_background": "light"
     },
     "output_type": "display_data"
    }
   ],
   "source": [
    "# visualization of the most common words using a wordcloud\n",
    "\n",
    "from wordcloud import WordCloud\n",
    "import matplotlib.pyplot as plt\n",
    "\n",
    "textt= \" \".join(word for word in all_words)\n",
    "wordcloud = WordCloud().generate(textt)\n",
    "\n",
    "plt.imshow(wordcloud, interpolation='bilinear')\n",
    "plt.axis(\"off\")\n",
    "plt.savefig('wordCloud1.png')\n",
    "plt.show()\n",
    "\n"
   ]
  },
  {
   "cell_type": "markdown",
   "metadata": {},
   "source": [
    "##### Visualization of the sentiments through use of a histogram"
   ]
  },
  {
   "cell_type": "code",
   "execution_count": 18,
   "metadata": {
    "scrolled": true
   },
   "outputs": [
    {
     "data": {
      "text/plain": [
       "{'Positive': 74, 'Negative': 204, 'Neutral': 57}"
      ]
     },
     "execution_count": 18,
     "metadata": {},
     "output_type": "execute_result"
    }
   ],
   "source": [
    "# visualization of the sentiments count through use of a dictionary\n",
    "\n",
    "sentiments = {\n",
    "    \"Positive\": sum(df.Label == 'Positive'),\n",
    "    \"Negative\": sum(df.Label == 'Negative'),\n",
    "    \"Neutral\": sum(df.Label == 'Neutral')\n",
    "}\n",
    "\n",
    "sentiments\n"
   ]
  },
  {
   "cell_type": "code",
   "execution_count": 19,
   "metadata": {
    "scrolled": true
   },
   "outputs": [
    {
     "data": {
      "text/html": [
       "        <script type=\"text/javascript\">\n",
       "        window.PlotlyConfig = {MathJaxConfig: 'local'};\n",
       "        if (window.MathJax) {MathJax.Hub.Config({SVG: {font: \"STIX-Web\"}});}\n",
       "        if (typeof require !== 'undefined') {\n",
       "        require.undef(\"plotly\");\n",
       "        requirejs.config({\n",
       "            paths: {\n",
       "                'plotly': ['https://cdn.plot.ly/plotly-latest.min']\n",
       "            }\n",
       "        });\n",
       "        require(['plotly'], function(Plotly) {\n",
       "            window._Plotly = Plotly;\n",
       "        });\n",
       "        }\n",
       "        </script>\n",
       "        "
      ]
     },
     "metadata": {},
     "output_type": "display_data"
    },
    {
     "data": {
      "application/vnd.plotly.v1+json": {
       "config": {
        "plotlyServerURL": "https://plot.ly"
       },
       "data": [
        {
         "alignmentgroup": "True",
         "bingroup": "x",
         "hovertemplate": "Label=%{x}<br>count=%{y}<extra></extra>",
         "legendgroup": "",
         "marker": {
          "color": "red",
          "line": {
           "color": "rgb(8,4,8,107)"
          }
         },
         "name": "",
         "offsetgroup": "",
         "orientation": "v",
         "showlegend": false,
         "type": "histogram",
         "x": [
          "Positive",
          "Positive",
          "Positive",
          "Positive",
          "Positive",
          "Negative",
          "Negative",
          "Negative",
          "Negative",
          "Negative",
          "Negative",
          "Negative",
          "Positive",
          "Negative",
          "Negative",
          "Negative",
          "Positive",
          "Positive",
          "Positive",
          "Neutral",
          "Positive",
          "Positive",
          "Negative",
          "Negative",
          "Negative",
          "Negative",
          "Positive",
          "Positive",
          "Positive",
          "Negative",
          "Negative",
          "Negative",
          "Negative",
          "Positive",
          "Negative",
          "Positive",
          "Negative",
          "Positive",
          "Negative",
          "Positive",
          "Negative",
          "Negative",
          "Negative",
          "Negative",
          "Negative",
          "Negative",
          "Negative",
          "Positive",
          "Neutral",
          "Positive",
          "Negative",
          "Neutral",
          "Negative",
          "Negative",
          "Positive",
          "Negative",
          "Negative",
          "Negative",
          "Negative",
          "Negative",
          "Negative",
          "Negative",
          "Positive",
          "Positive",
          "Positive",
          "Positive",
          "Negative",
          "Negative",
          "Negative",
          "Negative",
          "Negative",
          "Positive",
          "Positive",
          "Negative",
          "Negative",
          "Negative",
          "Positive",
          "Positive",
          "Negative",
          "Positive",
          "Negative",
          "Neutral",
          "Positive",
          "Positive",
          "Negative",
          "Positive",
          "Positive",
          "Negative",
          "Negative",
          "Positive",
          "Negative",
          "Positive",
          "Positive",
          "Negative",
          "Positive",
          "Positive",
          "Positive",
          "Positive",
          "Positive",
          "Negative",
          "Positive",
          "Negative",
          "Positive",
          "Negative",
          "Negative",
          "Positive",
          "Negative",
          "Positive",
          "Negative",
          "Positive",
          "Negative",
          "Positive",
          "Neutral",
          "Negative",
          "Negative",
          "Positive",
          "Positive",
          "Positive",
          "Positive",
          "Positive",
          "Positive",
          "Positive",
          "Neutral",
          "Neutral",
          "Neutral",
          "Neutral",
          "Neutral",
          "Neutral",
          "Negative",
          "Neutral",
          "Negative",
          "Positive",
          "Neutral",
          "Neutral",
          "Neutral",
          "Neutral",
          "Neutral",
          "Neutral",
          "Negative",
          "Negative",
          "Negative",
          "Negative",
          "Neutral",
          "Neutral",
          "Neutral",
          "Negative",
          "Neutral",
          "Negative",
          "Negative",
          "Negative",
          "Negative",
          "Negative",
          "Neutral",
          "Negative",
          "Positive",
          "Negative",
          "Negative",
          "Negative",
          "Negative",
          "Negative",
          "Negative",
          "Negative",
          "Negative",
          "Negative",
          "Positive",
          "Negative",
          "Negative",
          "Negative",
          "Negative",
          "Negative",
          "Negative",
          "Negative",
          "Negative",
          "Negative",
          "Neutral",
          "Neutral",
          "Negative",
          "Negative",
          "Neutral",
          "Neutral",
          "Neutral",
          "Neutral",
          "Negative",
          "Negative",
          "Negative",
          "Negative",
          "Negative",
          "Negative",
          "Negative",
          "Negative",
          "Positive",
          "Negative",
          "Neutral",
          "Negative",
          "Neutral",
          "Negative",
          "Neutral",
          "Positive",
          "Negative",
          "Positive",
          "Neutral",
          "Negative",
          "Neutral",
          "Neutral",
          "Neutral",
          "Negative",
          "Neutral",
          "Negative",
          "Neutral",
          "Negative",
          "Positive",
          "Positive",
          "Neutral",
          "Negative",
          "Negative",
          "Negative",
          "Negative",
          "Neutral",
          "Neutral",
          "Negative",
          "Negative",
          "Negative",
          "Negative",
          "Negative",
          "Negative",
          "Negative",
          "Negative",
          "Negative",
          "Positive",
          "Negative",
          "Negative",
          "Negative",
          "Negative",
          "Negative",
          "Negative",
          "Negative",
          "Negative",
          "Neutral",
          "Neutral",
          "Neutral",
          "Negative",
          "Negative",
          "Negative",
          "Negative",
          "Negative",
          "Negative",
          "Negative",
          "Positive",
          "Neutral",
          "Negative",
          "Negative",
          "Negative",
          "Negative",
          "Negative",
          "Negative",
          "Negative",
          "Negative",
          "Negative",
          "Negative",
          "Negative",
          "Neutral",
          "Negative",
          "Negative",
          "Negative",
          "Negative",
          "Negative",
          "Negative",
          "Negative",
          "Negative",
          "Negative",
          "Negative",
          "Neutral",
          "Negative",
          "Negative",
          "Negative",
          "Negative",
          "Neutral",
          "Negative",
          "Negative",
          "Neutral",
          "Negative",
          "Negative",
          "Negative",
          "Negative",
          "Negative",
          "Neutral",
          "Negative",
          "Positive",
          "Negative",
          "Negative",
          "Negative",
          "Positive",
          "Negative",
          "Negative",
          "Negative",
          "Negative",
          "Negative",
          "Neutral",
          "Negative",
          "Negative",
          "Negative",
          "Negative",
          "Neutral",
          "Positive",
          "Negative",
          "Negative",
          "Negative",
          "Negative",
          "Neutral",
          "Negative",
          "Neutral",
          "Neutral",
          "Positive",
          "Negative",
          "Negative",
          "Negative",
          "Negative",
          "Negative",
          "Positive",
          "Negative",
          "Positive",
          "Positive",
          "Positive",
          "Negative",
          "Negative",
          "Positive",
          "Negative",
          "Negative",
          "Negative",
          "Negative",
          "Negative",
          "Negative",
          "Neutral",
          "Negative",
          "Neutral"
         ],
         "xaxis": "x",
         "yaxis": "y"
        }
       ],
       "layout": {
        "barmode": "relative",
        "legend": {
         "tracegroupgap": 0
        },
        "margin": {
         "t": 60
        },
        "template": {
         "data": {
          "bar": [
           {
            "error_x": {
             "color": "#2a3f5f"
            },
            "error_y": {
             "color": "#2a3f5f"
            },
            "marker": {
             "line": {
              "color": "#E5ECF6",
              "width": 0.5
             }
            },
            "type": "bar"
           }
          ],
          "barpolar": [
           {
            "marker": {
             "line": {
              "color": "#E5ECF6",
              "width": 0.5
             }
            },
            "type": "barpolar"
           }
          ],
          "carpet": [
           {
            "aaxis": {
             "endlinecolor": "#2a3f5f",
             "gridcolor": "white",
             "linecolor": "white",
             "minorgridcolor": "white",
             "startlinecolor": "#2a3f5f"
            },
            "baxis": {
             "endlinecolor": "#2a3f5f",
             "gridcolor": "white",
             "linecolor": "white",
             "minorgridcolor": "white",
             "startlinecolor": "#2a3f5f"
            },
            "type": "carpet"
           }
          ],
          "choropleth": [
           {
            "colorbar": {
             "outlinewidth": 0,
             "ticks": ""
            },
            "type": "choropleth"
           }
          ],
          "contour": [
           {
            "colorbar": {
             "outlinewidth": 0,
             "ticks": ""
            },
            "colorscale": [
             [
              0,
              "#0d0887"
             ],
             [
              0.1111111111111111,
              "#46039f"
             ],
             [
              0.2222222222222222,
              "#7201a8"
             ],
             [
              0.3333333333333333,
              "#9c179e"
             ],
             [
              0.4444444444444444,
              "#bd3786"
             ],
             [
              0.5555555555555556,
              "#d8576b"
             ],
             [
              0.6666666666666666,
              "#ed7953"
             ],
             [
              0.7777777777777778,
              "#fb9f3a"
             ],
             [
              0.8888888888888888,
              "#fdca26"
             ],
             [
              1,
              "#f0f921"
             ]
            ],
            "type": "contour"
           }
          ],
          "contourcarpet": [
           {
            "colorbar": {
             "outlinewidth": 0,
             "ticks": ""
            },
            "type": "contourcarpet"
           }
          ],
          "heatmap": [
           {
            "colorbar": {
             "outlinewidth": 0,
             "ticks": ""
            },
            "colorscale": [
             [
              0,
              "#0d0887"
             ],
             [
              0.1111111111111111,
              "#46039f"
             ],
             [
              0.2222222222222222,
              "#7201a8"
             ],
             [
              0.3333333333333333,
              "#9c179e"
             ],
             [
              0.4444444444444444,
              "#bd3786"
             ],
             [
              0.5555555555555556,
              "#d8576b"
             ],
             [
              0.6666666666666666,
              "#ed7953"
             ],
             [
              0.7777777777777778,
              "#fb9f3a"
             ],
             [
              0.8888888888888888,
              "#fdca26"
             ],
             [
              1,
              "#f0f921"
             ]
            ],
            "type": "heatmap"
           }
          ],
          "heatmapgl": [
           {
            "colorbar": {
             "outlinewidth": 0,
             "ticks": ""
            },
            "colorscale": [
             [
              0,
              "#0d0887"
             ],
             [
              0.1111111111111111,
              "#46039f"
             ],
             [
              0.2222222222222222,
              "#7201a8"
             ],
             [
              0.3333333333333333,
              "#9c179e"
             ],
             [
              0.4444444444444444,
              "#bd3786"
             ],
             [
              0.5555555555555556,
              "#d8576b"
             ],
             [
              0.6666666666666666,
              "#ed7953"
             ],
             [
              0.7777777777777778,
              "#fb9f3a"
             ],
             [
              0.8888888888888888,
              "#fdca26"
             ],
             [
              1,
              "#f0f921"
             ]
            ],
            "type": "heatmapgl"
           }
          ],
          "histogram": [
           {
            "marker": {
             "colorbar": {
              "outlinewidth": 0,
              "ticks": ""
             }
            },
            "type": "histogram"
           }
          ],
          "histogram2d": [
           {
            "colorbar": {
             "outlinewidth": 0,
             "ticks": ""
            },
            "colorscale": [
             [
              0,
              "#0d0887"
             ],
             [
              0.1111111111111111,
              "#46039f"
             ],
             [
              0.2222222222222222,
              "#7201a8"
             ],
             [
              0.3333333333333333,
              "#9c179e"
             ],
             [
              0.4444444444444444,
              "#bd3786"
             ],
             [
              0.5555555555555556,
              "#d8576b"
             ],
             [
              0.6666666666666666,
              "#ed7953"
             ],
             [
              0.7777777777777778,
              "#fb9f3a"
             ],
             [
              0.8888888888888888,
              "#fdca26"
             ],
             [
              1,
              "#f0f921"
             ]
            ],
            "type": "histogram2d"
           }
          ],
          "histogram2dcontour": [
           {
            "colorbar": {
             "outlinewidth": 0,
             "ticks": ""
            },
            "colorscale": [
             [
              0,
              "#0d0887"
             ],
             [
              0.1111111111111111,
              "#46039f"
             ],
             [
              0.2222222222222222,
              "#7201a8"
             ],
             [
              0.3333333333333333,
              "#9c179e"
             ],
             [
              0.4444444444444444,
              "#bd3786"
             ],
             [
              0.5555555555555556,
              "#d8576b"
             ],
             [
              0.6666666666666666,
              "#ed7953"
             ],
             [
              0.7777777777777778,
              "#fb9f3a"
             ],
             [
              0.8888888888888888,
              "#fdca26"
             ],
             [
              1,
              "#f0f921"
             ]
            ],
            "type": "histogram2dcontour"
           }
          ],
          "mesh3d": [
           {
            "colorbar": {
             "outlinewidth": 0,
             "ticks": ""
            },
            "type": "mesh3d"
           }
          ],
          "parcoords": [
           {
            "line": {
             "colorbar": {
              "outlinewidth": 0,
              "ticks": ""
             }
            },
            "type": "parcoords"
           }
          ],
          "pie": [
           {
            "automargin": true,
            "type": "pie"
           }
          ],
          "scatter": [
           {
            "marker": {
             "colorbar": {
              "outlinewidth": 0,
              "ticks": ""
             }
            },
            "type": "scatter"
           }
          ],
          "scatter3d": [
           {
            "line": {
             "colorbar": {
              "outlinewidth": 0,
              "ticks": ""
             }
            },
            "marker": {
             "colorbar": {
              "outlinewidth": 0,
              "ticks": ""
             }
            },
            "type": "scatter3d"
           }
          ],
          "scattercarpet": [
           {
            "marker": {
             "colorbar": {
              "outlinewidth": 0,
              "ticks": ""
             }
            },
            "type": "scattercarpet"
           }
          ],
          "scattergeo": [
           {
            "marker": {
             "colorbar": {
              "outlinewidth": 0,
              "ticks": ""
             }
            },
            "type": "scattergeo"
           }
          ],
          "scattergl": [
           {
            "marker": {
             "colorbar": {
              "outlinewidth": 0,
              "ticks": ""
             }
            },
            "type": "scattergl"
           }
          ],
          "scattermapbox": [
           {
            "marker": {
             "colorbar": {
              "outlinewidth": 0,
              "ticks": ""
             }
            },
            "type": "scattermapbox"
           }
          ],
          "scatterpolar": [
           {
            "marker": {
             "colorbar": {
              "outlinewidth": 0,
              "ticks": ""
             }
            },
            "type": "scatterpolar"
           }
          ],
          "scatterpolargl": [
           {
            "marker": {
             "colorbar": {
              "outlinewidth": 0,
              "ticks": ""
             }
            },
            "type": "scatterpolargl"
           }
          ],
          "scatterternary": [
           {
            "marker": {
             "colorbar": {
              "outlinewidth": 0,
              "ticks": ""
             }
            },
            "type": "scatterternary"
           }
          ],
          "surface": [
           {
            "colorbar": {
             "outlinewidth": 0,
             "ticks": ""
            },
            "colorscale": [
             [
              0,
              "#0d0887"
             ],
             [
              0.1111111111111111,
              "#46039f"
             ],
             [
              0.2222222222222222,
              "#7201a8"
             ],
             [
              0.3333333333333333,
              "#9c179e"
             ],
             [
              0.4444444444444444,
              "#bd3786"
             ],
             [
              0.5555555555555556,
              "#d8576b"
             ],
             [
              0.6666666666666666,
              "#ed7953"
             ],
             [
              0.7777777777777778,
              "#fb9f3a"
             ],
             [
              0.8888888888888888,
              "#fdca26"
             ],
             [
              1,
              "#f0f921"
             ]
            ],
            "type": "surface"
           }
          ],
          "table": [
           {
            "cells": {
             "fill": {
              "color": "#EBF0F8"
             },
             "line": {
              "color": "white"
             }
            },
            "header": {
             "fill": {
              "color": "#C8D4E3"
             },
             "line": {
              "color": "white"
             }
            },
            "type": "table"
           }
          ]
         },
         "layout": {
          "annotationdefaults": {
           "arrowcolor": "#2a3f5f",
           "arrowhead": 0,
           "arrowwidth": 1
          },
          "autotypenumbers": "strict",
          "coloraxis": {
           "colorbar": {
            "outlinewidth": 0,
            "ticks": ""
           }
          },
          "colorscale": {
           "diverging": [
            [
             0,
             "#8e0152"
            ],
            [
             0.1,
             "#c51b7d"
            ],
            [
             0.2,
             "#de77ae"
            ],
            [
             0.3,
             "#f1b6da"
            ],
            [
             0.4,
             "#fde0ef"
            ],
            [
             0.5,
             "#f7f7f7"
            ],
            [
             0.6,
             "#e6f5d0"
            ],
            [
             0.7,
             "#b8e186"
            ],
            [
             0.8,
             "#7fbc41"
            ],
            [
             0.9,
             "#4d9221"
            ],
            [
             1,
             "#276419"
            ]
           ],
           "sequential": [
            [
             0,
             "#0d0887"
            ],
            [
             0.1111111111111111,
             "#46039f"
            ],
            [
             0.2222222222222222,
             "#7201a8"
            ],
            [
             0.3333333333333333,
             "#9c179e"
            ],
            [
             0.4444444444444444,
             "#bd3786"
            ],
            [
             0.5555555555555556,
             "#d8576b"
            ],
            [
             0.6666666666666666,
             "#ed7953"
            ],
            [
             0.7777777777777778,
             "#fb9f3a"
            ],
            [
             0.8888888888888888,
             "#fdca26"
            ],
            [
             1,
             "#f0f921"
            ]
           ],
           "sequentialminus": [
            [
             0,
             "#0d0887"
            ],
            [
             0.1111111111111111,
             "#46039f"
            ],
            [
             0.2222222222222222,
             "#7201a8"
            ],
            [
             0.3333333333333333,
             "#9c179e"
            ],
            [
             0.4444444444444444,
             "#bd3786"
            ],
            [
             0.5555555555555556,
             "#d8576b"
            ],
            [
             0.6666666666666666,
             "#ed7953"
            ],
            [
             0.7777777777777778,
             "#fb9f3a"
            ],
            [
             0.8888888888888888,
             "#fdca26"
            ],
            [
             1,
             "#f0f921"
            ]
           ]
          },
          "colorway": [
           "#636efa",
           "#EF553B",
           "#00cc96",
           "#ab63fa",
           "#FFA15A",
           "#19d3f3",
           "#FF6692",
           "#B6E880",
           "#FF97FF",
           "#FECB52"
          ],
          "font": {
           "color": "#2a3f5f"
          },
          "geo": {
           "bgcolor": "white",
           "lakecolor": "white",
           "landcolor": "#E5ECF6",
           "showlakes": true,
           "showland": true,
           "subunitcolor": "white"
          },
          "hoverlabel": {
           "align": "left"
          },
          "hovermode": "closest",
          "mapbox": {
           "style": "light"
          },
          "paper_bgcolor": "white",
          "plot_bgcolor": "#E5ECF6",
          "polar": {
           "angularaxis": {
            "gridcolor": "white",
            "linecolor": "white",
            "ticks": ""
           },
           "bgcolor": "#E5ECF6",
           "radialaxis": {
            "gridcolor": "white",
            "linecolor": "white",
            "ticks": ""
           }
          },
          "scene": {
           "xaxis": {
            "backgroundcolor": "#E5ECF6",
            "gridcolor": "white",
            "gridwidth": 2,
            "linecolor": "white",
            "showbackground": true,
            "ticks": "",
            "zerolinecolor": "white"
           },
           "yaxis": {
            "backgroundcolor": "#E5ECF6",
            "gridcolor": "white",
            "gridwidth": 2,
            "linecolor": "white",
            "showbackground": true,
            "ticks": "",
            "zerolinecolor": "white"
           },
           "zaxis": {
            "backgroundcolor": "#E5ECF6",
            "gridcolor": "white",
            "gridwidth": 2,
            "linecolor": "white",
            "showbackground": true,
            "ticks": "",
            "zerolinecolor": "white"
           }
          },
          "shapedefaults": {
           "line": {
            "color": "#2a3f5f"
           }
          },
          "ternary": {
           "aaxis": {
            "gridcolor": "white",
            "linecolor": "white",
            "ticks": ""
           },
           "baxis": {
            "gridcolor": "white",
            "linecolor": "white",
            "ticks": ""
           },
           "bgcolor": "#E5ECF6",
           "caxis": {
            "gridcolor": "white",
            "linecolor": "white",
            "ticks": ""
           }
          },
          "title": {
           "x": 0.05
          },
          "xaxis": {
           "automargin": true,
           "gridcolor": "white",
           "linecolor": "white",
           "ticks": "",
           "title": {
            "standoff": 15
           },
           "zerolinecolor": "white",
           "zerolinewidth": 2
          },
          "yaxis": {
           "automargin": true,
           "gridcolor": "white",
           "linecolor": "white",
           "ticks": "",
           "title": {
            "standoff": 15
           },
           "zerolinecolor": "white",
           "zerolinewidth": 2
          }
         }
        },
        "title": {
         "text": "Mobile Banking Platform Sentiments"
        },
        "xaxis": {
         "anchor": "y",
         "domain": [
          0,
          1
         ],
         "title": {
          "text": "Label"
         }
        },
        "yaxis": {
         "anchor": "x",
         "domain": [
          0,
          1
         ],
         "title": {
          "text": "count"
         }
        }
       }
      },
      "text/html": [
       "<div>                            <div id=\"11ad518d-e5a6-448e-a803-b6f6e9d97ddc\" class=\"plotly-graph-div\" style=\"height:525px; width:100%;\"></div>            <script type=\"text/javascript\">                require([\"plotly\"], function(Plotly) {                    window.PLOTLYENV=window.PLOTLYENV || {};                                    if (document.getElementById(\"11ad518d-e5a6-448e-a803-b6f6e9d97ddc\")) {                    Plotly.newPlot(                        \"11ad518d-e5a6-448e-a803-b6f6e9d97ddc\",                        [{\"alignmentgroup\": \"True\", \"bingroup\": \"x\", \"hovertemplate\": \"Label=%{x}<br>count=%{y}<extra></extra>\", \"legendgroup\": \"\", \"marker\": {\"color\": \"red\", \"line\": {\"color\": \"rgb(8,4,8,107)\"}}, \"name\": \"\", \"offsetgroup\": \"\", \"orientation\": \"v\", \"showlegend\": false, \"type\": \"histogram\", \"x\": [\"Positive\", \"Positive\", \"Positive\", \"Positive\", \"Positive\", \"Negative\", \"Negative\", \"Negative\", \"Negative\", \"Negative\", \"Negative\", \"Negative\", \"Positive\", \"Negative\", \"Negative\", \"Negative\", \"Positive\", \"Positive\", \"Positive\", \"Neutral\", \"Positive\", \"Positive\", \"Negative\", \"Negative\", \"Negative\", \"Negative\", \"Positive\", \"Positive\", \"Positive\", \"Negative\", \"Negative\", \"Negative\", \"Negative\", \"Positive\", \"Negative\", \"Positive\", \"Negative\", \"Positive\", \"Negative\", \"Positive\", \"Negative\", \"Negative\", \"Negative\", \"Negative\", \"Negative\", \"Negative\", \"Negative\", \"Positive\", \"Neutral\", \"Positive\", \"Negative\", \"Neutral\", \"Negative\", \"Negative\", \"Positive\", \"Negative\", \"Negative\", \"Negative\", \"Negative\", \"Negative\", \"Negative\", \"Negative\", \"Positive\", \"Positive\", \"Positive\", \"Positive\", \"Negative\", \"Negative\", \"Negative\", \"Negative\", \"Negative\", \"Positive\", \"Positive\", \"Negative\", \"Negative\", \"Negative\", \"Positive\", \"Positive\", \"Negative\", \"Positive\", \"Negative\", \"Neutral\", \"Positive\", \"Positive\", \"Negative\", \"Positive\", \"Positive\", \"Negative\", \"Negative\", \"Positive\", \"Negative\", \"Positive\", \"Positive\", \"Negative\", \"Positive\", \"Positive\", \"Positive\", \"Positive\", \"Positive\", \"Negative\", \"Positive\", \"Negative\", \"Positive\", \"Negative\", \"Negative\", \"Positive\", \"Negative\", \"Positive\", \"Negative\", \"Positive\", \"Negative\", \"Positive\", \"Neutral\", \"Negative\", \"Negative\", \"Positive\", \"Positive\", \"Positive\", \"Positive\", \"Positive\", \"Positive\", \"Positive\", \"Neutral\", \"Neutral\", \"Neutral\", \"Neutral\", \"Neutral\", \"Neutral\", \"Negative\", \"Neutral\", \"Negative\", \"Positive\", \"Neutral\", \"Neutral\", \"Neutral\", \"Neutral\", \"Neutral\", \"Neutral\", \"Negative\", \"Negative\", \"Negative\", \"Negative\", \"Neutral\", \"Neutral\", \"Neutral\", \"Negative\", \"Neutral\", \"Negative\", \"Negative\", \"Negative\", \"Negative\", \"Negative\", \"Neutral\", \"Negative\", \"Positive\", \"Negative\", \"Negative\", \"Negative\", \"Negative\", \"Negative\", \"Negative\", \"Negative\", \"Negative\", \"Negative\", \"Positive\", \"Negative\", \"Negative\", \"Negative\", \"Negative\", \"Negative\", \"Negative\", \"Negative\", \"Negative\", \"Negative\", \"Neutral\", \"Neutral\", \"Negative\", \"Negative\", \"Neutral\", \"Neutral\", \"Neutral\", \"Neutral\", \"Negative\", \"Negative\", \"Negative\", \"Negative\", \"Negative\", \"Negative\", \"Negative\", \"Negative\", \"Positive\", \"Negative\", \"Neutral\", \"Negative\", \"Neutral\", \"Negative\", \"Neutral\", \"Positive\", \"Negative\", \"Positive\", \"Neutral\", \"Negative\", \"Neutral\", \"Neutral\", \"Neutral\", \"Negative\", \"Neutral\", \"Negative\", \"Neutral\", \"Negative\", \"Positive\", \"Positive\", \"Neutral\", \"Negative\", \"Negative\", \"Negative\", \"Negative\", \"Neutral\", \"Neutral\", \"Negative\", \"Negative\", \"Negative\", \"Negative\", \"Negative\", \"Negative\", \"Negative\", \"Negative\", \"Negative\", \"Positive\", \"Negative\", \"Negative\", \"Negative\", \"Negative\", \"Negative\", \"Negative\", \"Negative\", \"Negative\", \"Neutral\", \"Neutral\", \"Neutral\", \"Negative\", \"Negative\", \"Negative\", \"Negative\", \"Negative\", \"Negative\", \"Negative\", \"Positive\", \"Neutral\", \"Negative\", \"Negative\", \"Negative\", \"Negative\", \"Negative\", \"Negative\", \"Negative\", \"Negative\", \"Negative\", \"Negative\", \"Negative\", \"Neutral\", \"Negative\", \"Negative\", \"Negative\", \"Negative\", \"Negative\", \"Negative\", \"Negative\", \"Negative\", \"Negative\", \"Negative\", \"Neutral\", \"Negative\", \"Negative\", \"Negative\", \"Negative\", \"Neutral\", \"Negative\", \"Negative\", \"Neutral\", \"Negative\", \"Negative\", \"Negative\", \"Negative\", \"Negative\", \"Neutral\", \"Negative\", \"Positive\", \"Negative\", \"Negative\", \"Negative\", \"Positive\", \"Negative\", \"Negative\", \"Negative\", \"Negative\", \"Negative\", \"Neutral\", \"Negative\", \"Negative\", \"Negative\", \"Negative\", \"Neutral\", \"Positive\", \"Negative\", \"Negative\", \"Negative\", \"Negative\", \"Neutral\", \"Negative\", \"Neutral\", \"Neutral\", \"Positive\", \"Negative\", \"Negative\", \"Negative\", \"Negative\", \"Negative\", \"Positive\", \"Negative\", \"Positive\", \"Positive\", \"Positive\", \"Negative\", \"Negative\", \"Positive\", \"Negative\", \"Negative\", \"Negative\", \"Negative\", \"Negative\", \"Negative\", \"Neutral\", \"Negative\", \"Neutral\"], \"xaxis\": \"x\", \"yaxis\": \"y\"}],                        {\"barmode\": \"relative\", \"legend\": {\"tracegroupgap\": 0}, \"margin\": {\"t\": 60}, \"template\": {\"data\": {\"bar\": [{\"error_x\": {\"color\": \"#2a3f5f\"}, \"error_y\": {\"color\": \"#2a3f5f\"}, \"marker\": {\"line\": {\"color\": \"#E5ECF6\", \"width\": 0.5}}, \"type\": \"bar\"}], \"barpolar\": [{\"marker\": {\"line\": {\"color\": \"#E5ECF6\", \"width\": 0.5}}, \"type\": \"barpolar\"}], \"carpet\": [{\"aaxis\": {\"endlinecolor\": \"#2a3f5f\", \"gridcolor\": \"white\", \"linecolor\": \"white\", \"minorgridcolor\": \"white\", \"startlinecolor\": \"#2a3f5f\"}, \"baxis\": {\"endlinecolor\": \"#2a3f5f\", \"gridcolor\": \"white\", \"linecolor\": \"white\", \"minorgridcolor\": \"white\", \"startlinecolor\": \"#2a3f5f\"}, \"type\": \"carpet\"}], \"choropleth\": [{\"colorbar\": {\"outlinewidth\": 0, \"ticks\": \"\"}, \"type\": \"choropleth\"}], \"contour\": [{\"colorbar\": {\"outlinewidth\": 0, \"ticks\": \"\"}, \"colorscale\": [[0.0, \"#0d0887\"], [0.1111111111111111, \"#46039f\"], [0.2222222222222222, \"#7201a8\"], [0.3333333333333333, \"#9c179e\"], [0.4444444444444444, \"#bd3786\"], [0.5555555555555556, \"#d8576b\"], [0.6666666666666666, \"#ed7953\"], [0.7777777777777778, \"#fb9f3a\"], [0.8888888888888888, \"#fdca26\"], [1.0, \"#f0f921\"]], \"type\": \"contour\"}], \"contourcarpet\": [{\"colorbar\": {\"outlinewidth\": 0, \"ticks\": \"\"}, \"type\": \"contourcarpet\"}], \"heatmap\": [{\"colorbar\": {\"outlinewidth\": 0, \"ticks\": \"\"}, \"colorscale\": [[0.0, \"#0d0887\"], [0.1111111111111111, \"#46039f\"], [0.2222222222222222, \"#7201a8\"], [0.3333333333333333, \"#9c179e\"], [0.4444444444444444, \"#bd3786\"], [0.5555555555555556, \"#d8576b\"], [0.6666666666666666, \"#ed7953\"], [0.7777777777777778, \"#fb9f3a\"], [0.8888888888888888, \"#fdca26\"], [1.0, \"#f0f921\"]], \"type\": \"heatmap\"}], \"heatmapgl\": [{\"colorbar\": {\"outlinewidth\": 0, \"ticks\": \"\"}, \"colorscale\": [[0.0, \"#0d0887\"], [0.1111111111111111, \"#46039f\"], [0.2222222222222222, \"#7201a8\"], [0.3333333333333333, \"#9c179e\"], [0.4444444444444444, \"#bd3786\"], [0.5555555555555556, \"#d8576b\"], [0.6666666666666666, \"#ed7953\"], [0.7777777777777778, \"#fb9f3a\"], [0.8888888888888888, \"#fdca26\"], [1.0, \"#f0f921\"]], \"type\": \"heatmapgl\"}], \"histogram\": [{\"marker\": {\"colorbar\": {\"outlinewidth\": 0, \"ticks\": \"\"}}, \"type\": \"histogram\"}], \"histogram2d\": [{\"colorbar\": {\"outlinewidth\": 0, \"ticks\": \"\"}, \"colorscale\": [[0.0, \"#0d0887\"], [0.1111111111111111, \"#46039f\"], [0.2222222222222222, \"#7201a8\"], [0.3333333333333333, \"#9c179e\"], [0.4444444444444444, \"#bd3786\"], [0.5555555555555556, \"#d8576b\"], [0.6666666666666666, \"#ed7953\"], [0.7777777777777778, \"#fb9f3a\"], [0.8888888888888888, \"#fdca26\"], [1.0, \"#f0f921\"]], \"type\": \"histogram2d\"}], \"histogram2dcontour\": [{\"colorbar\": {\"outlinewidth\": 0, \"ticks\": \"\"}, \"colorscale\": [[0.0, \"#0d0887\"], [0.1111111111111111, \"#46039f\"], [0.2222222222222222, \"#7201a8\"], [0.3333333333333333, \"#9c179e\"], [0.4444444444444444, \"#bd3786\"], [0.5555555555555556, \"#d8576b\"], [0.6666666666666666, \"#ed7953\"], [0.7777777777777778, \"#fb9f3a\"], [0.8888888888888888, \"#fdca26\"], [1.0, \"#f0f921\"]], \"type\": \"histogram2dcontour\"}], \"mesh3d\": [{\"colorbar\": {\"outlinewidth\": 0, \"ticks\": \"\"}, \"type\": \"mesh3d\"}], \"parcoords\": [{\"line\": {\"colorbar\": {\"outlinewidth\": 0, \"ticks\": \"\"}}, \"type\": \"parcoords\"}], \"pie\": [{\"automargin\": true, \"type\": \"pie\"}], \"scatter\": [{\"marker\": {\"colorbar\": {\"outlinewidth\": 0, \"ticks\": \"\"}}, \"type\": \"scatter\"}], \"scatter3d\": [{\"line\": {\"colorbar\": {\"outlinewidth\": 0, \"ticks\": \"\"}}, \"marker\": {\"colorbar\": {\"outlinewidth\": 0, \"ticks\": \"\"}}, \"type\": \"scatter3d\"}], \"scattercarpet\": [{\"marker\": {\"colorbar\": {\"outlinewidth\": 0, \"ticks\": \"\"}}, \"type\": \"scattercarpet\"}], \"scattergeo\": [{\"marker\": {\"colorbar\": {\"outlinewidth\": 0, \"ticks\": \"\"}}, \"type\": \"scattergeo\"}], \"scattergl\": [{\"marker\": {\"colorbar\": {\"outlinewidth\": 0, \"ticks\": \"\"}}, \"type\": \"scattergl\"}], \"scattermapbox\": [{\"marker\": {\"colorbar\": {\"outlinewidth\": 0, \"ticks\": \"\"}}, \"type\": \"scattermapbox\"}], \"scatterpolar\": [{\"marker\": {\"colorbar\": {\"outlinewidth\": 0, \"ticks\": \"\"}}, \"type\": \"scatterpolar\"}], \"scatterpolargl\": [{\"marker\": {\"colorbar\": {\"outlinewidth\": 0, \"ticks\": \"\"}}, \"type\": \"scatterpolargl\"}], \"scatterternary\": [{\"marker\": {\"colorbar\": {\"outlinewidth\": 0, \"ticks\": \"\"}}, \"type\": \"scatterternary\"}], \"surface\": [{\"colorbar\": {\"outlinewidth\": 0, \"ticks\": \"\"}, \"colorscale\": [[0.0, \"#0d0887\"], [0.1111111111111111, \"#46039f\"], [0.2222222222222222, \"#7201a8\"], [0.3333333333333333, \"#9c179e\"], [0.4444444444444444, \"#bd3786\"], [0.5555555555555556, \"#d8576b\"], [0.6666666666666666, \"#ed7953\"], [0.7777777777777778, \"#fb9f3a\"], [0.8888888888888888, \"#fdca26\"], [1.0, \"#f0f921\"]], \"type\": \"surface\"}], \"table\": [{\"cells\": {\"fill\": {\"color\": \"#EBF0F8\"}, \"line\": {\"color\": \"white\"}}, \"header\": {\"fill\": {\"color\": \"#C8D4E3\"}, \"line\": {\"color\": \"white\"}}, \"type\": \"table\"}]}, \"layout\": {\"annotationdefaults\": {\"arrowcolor\": \"#2a3f5f\", \"arrowhead\": 0, \"arrowwidth\": 1}, \"autotypenumbers\": \"strict\", \"coloraxis\": {\"colorbar\": {\"outlinewidth\": 0, \"ticks\": \"\"}}, \"colorscale\": {\"diverging\": [[0, \"#8e0152\"], [0.1, \"#c51b7d\"], [0.2, \"#de77ae\"], [0.3, \"#f1b6da\"], [0.4, \"#fde0ef\"], [0.5, \"#f7f7f7\"], [0.6, \"#e6f5d0\"], [0.7, \"#b8e186\"], [0.8, \"#7fbc41\"], [0.9, \"#4d9221\"], [1, \"#276419\"]], \"sequential\": [[0.0, \"#0d0887\"], [0.1111111111111111, \"#46039f\"], [0.2222222222222222, \"#7201a8\"], [0.3333333333333333, \"#9c179e\"], [0.4444444444444444, \"#bd3786\"], [0.5555555555555556, \"#d8576b\"], [0.6666666666666666, \"#ed7953\"], [0.7777777777777778, \"#fb9f3a\"], [0.8888888888888888, \"#fdca26\"], [1.0, \"#f0f921\"]], \"sequentialminus\": [[0.0, \"#0d0887\"], [0.1111111111111111, \"#46039f\"], [0.2222222222222222, \"#7201a8\"], [0.3333333333333333, \"#9c179e\"], [0.4444444444444444, \"#bd3786\"], [0.5555555555555556, \"#d8576b\"], [0.6666666666666666, \"#ed7953\"], [0.7777777777777778, \"#fb9f3a\"], [0.8888888888888888, \"#fdca26\"], [1.0, \"#f0f921\"]]}, \"colorway\": [\"#636efa\", \"#EF553B\", \"#00cc96\", \"#ab63fa\", \"#FFA15A\", \"#19d3f3\", \"#FF6692\", \"#B6E880\", \"#FF97FF\", \"#FECB52\"], \"font\": {\"color\": \"#2a3f5f\"}, \"geo\": {\"bgcolor\": \"white\", \"lakecolor\": \"white\", \"landcolor\": \"#E5ECF6\", \"showlakes\": true, \"showland\": true, \"subunitcolor\": \"white\"}, \"hoverlabel\": {\"align\": \"left\"}, \"hovermode\": \"closest\", \"mapbox\": {\"style\": \"light\"}, \"paper_bgcolor\": \"white\", \"plot_bgcolor\": \"#E5ECF6\", \"polar\": {\"angularaxis\": {\"gridcolor\": \"white\", \"linecolor\": \"white\", \"ticks\": \"\"}, \"bgcolor\": \"#E5ECF6\", \"radialaxis\": {\"gridcolor\": \"white\", \"linecolor\": \"white\", \"ticks\": \"\"}}, \"scene\": {\"xaxis\": {\"backgroundcolor\": \"#E5ECF6\", \"gridcolor\": \"white\", \"gridwidth\": 2, \"linecolor\": \"white\", \"showbackground\": true, \"ticks\": \"\", \"zerolinecolor\": \"white\"}, \"yaxis\": {\"backgroundcolor\": \"#E5ECF6\", \"gridcolor\": \"white\", \"gridwidth\": 2, \"linecolor\": \"white\", \"showbackground\": true, \"ticks\": \"\", \"zerolinecolor\": \"white\"}, \"zaxis\": {\"backgroundcolor\": \"#E5ECF6\", \"gridcolor\": \"white\", \"gridwidth\": 2, \"linecolor\": \"white\", \"showbackground\": true, \"ticks\": \"\", \"zerolinecolor\": \"white\"}}, \"shapedefaults\": {\"line\": {\"color\": \"#2a3f5f\"}}, \"ternary\": {\"aaxis\": {\"gridcolor\": \"white\", \"linecolor\": \"white\", \"ticks\": \"\"}, \"baxis\": {\"gridcolor\": \"white\", \"linecolor\": \"white\", \"ticks\": \"\"}, \"bgcolor\": \"#E5ECF6\", \"caxis\": {\"gridcolor\": \"white\", \"linecolor\": \"white\", \"ticks\": \"\"}}, \"title\": {\"x\": 0.05}, \"xaxis\": {\"automargin\": true, \"gridcolor\": \"white\", \"linecolor\": \"white\", \"ticks\": \"\", \"title\": {\"standoff\": 15}, \"zerolinecolor\": \"white\", \"zerolinewidth\": 2}, \"yaxis\": {\"automargin\": true, \"gridcolor\": \"white\", \"linecolor\": \"white\", \"ticks\": \"\", \"title\": {\"standoff\": 15}, \"zerolinecolor\": \"white\", \"zerolinewidth\": 2}}}, \"title\": {\"text\": \"Mobile Banking Platform Sentiments\"}, \"xaxis\": {\"anchor\": \"y\", \"domain\": [0.0, 1.0], \"title\": {\"text\": \"Label\"}}, \"yaxis\": {\"anchor\": \"x\", \"domain\": [0.0, 1.0], \"title\": {\"text\": \"count\"}}},                        {\"responsive\": true}                    ).then(function(){\n",
       "                            \n",
       "var gd = document.getElementById('11ad518d-e5a6-448e-a803-b6f6e9d97ddc');\n",
       "var x = new MutationObserver(function (mutations, observer) {{\n",
       "        var display = window.getComputedStyle(gd).display;\n",
       "        if (!display || display === 'none') {{\n",
       "            console.log([gd, 'removed!']);\n",
       "            Plotly.purge(gd);\n",
       "            observer.disconnect();\n",
       "        }}\n",
       "}});\n",
       "\n",
       "// Listen for the removal of the full notebook cells\n",
       "var notebookContainer = gd.closest('#notebook-container');\n",
       "if (notebookContainer) {{\n",
       "    x.observe(notebookContainer, {childList: true});\n",
       "}}\n",
       "\n",
       "// Listen for the clearing of the current output cell\n",
       "var outputEl = gd.closest('.output');\n",
       "if (outputEl) {{\n",
       "    x.observe(outputEl, {childList: true});\n",
       "}}\n",
       "\n",
       "                        })                };                });            </script>        </div>"
      ]
     },
     "metadata": {},
     "output_type": "display_data"
    }
   ],
   "source": [
    "# Histogram plot of the sentiments\n",
    "\n",
    "%matplotlib inline\n",
    "import seaborn as sns\n",
    "color = sns.color_palette()\n",
    "import plotly.offline as py\n",
    "py.init_notebook_mode(connected=True)\n",
    "import plotly.graph_objs as go\n",
    "import plotly.tools as tls\n",
    "import plotly.express as px\n",
    "\n",
    "fig = px.histogram(df['Label'], x ='Label')\n",
    "fig.update_traces(marker_color='red', marker_line_color='rgb(8,4,8,107)')\n",
    "fig.update_layout(title_text=\"Mobile Banking Platform Sentiments\")\n",
    "fig.show()"
   ]
  },
  {
   "cell_type": "markdown",
   "metadata": {},
   "source": [
    "#### Vectorization of the Processed Comments"
   ]
  },
  {
   "cell_type": "code",
   "execution_count": 20,
   "metadata": {},
   "outputs": [],
   "source": [
    "# Vectorization using Sklearn Count Vectorizer\n",
    "from sklearn.feature_extraction.text import CountVectorizer\n",
    "\n",
    "docs = []\n",
    "\n",
    "for comment in lemmatized_comments:\n",
    "    docs.append(' '.join(word for word in comment))\n",
    "\n",
    "vectorizer = CountVectorizer(docs)\n",
    "vectors = vectorizer.fit_transform(docs)\n",
    "\n",
    "#print(\"Vocabulary: \", vectorizer.vocabulary_)\n",
    "#print(\"Vector shape: \", vectors.shape)\n",
    "#print(\"10th vector: {}\".format(vectors[10].toarray()))"
   ]
  },
  {
   "cell_type": "code",
   "execution_count": 21,
   "metadata": {},
   "outputs": [],
   "source": [
    "# Vectorization using sklearn tfidf Vectorizer\n",
    "\n",
    "from sklearn.feature_extraction.text import TfidfVectorizer\n",
    "\n",
    "tfidfvectorizer = TfidfVectorizer(docs)\n",
    "tfidfvectors = tfidfvectorizer.fit_transform(docs)\n",
    "\n",
    "#print(\"Vocabulary: \", tfidfvectorizer.vocabulary_)\n",
    "#print(\"Vector shape: \", tfidfvectors.shape)\n",
    "#print(\"10th vector: {}\".format(tfidfvectors[10].toarray()))"
   ]
  },
  {
   "cell_type": "markdown",
   "metadata": {},
   "source": [
    "## Building the Classifier"
   ]
  },
  {
   "cell_type": "markdown",
   "metadata": {},
   "source": [
    "* ##### The vectors used in the classification were the ones derived using the tfidf vectorization method \n",
    "\n",
    "* ##### Three classification algorithms are used for building the classifier that is RandomForest, Naive Bayes, and Support Vectors Classifier and a comparison of their performances done.\n",
    "\n",
    "* ##### The train_test split and kfold model selection methods of sklearn were used to perform one-fold and 5 -fold cross validation were run on the vectorized feature set and performance also compared"
   ]
  },
  {
   "cell_type": "code",
   "execution_count": null,
   "metadata": {},
   "outputs": [],
   "source": []
  },
  {
   "cell_type": "code",
   "execution_count": 22,
   "metadata": {},
   "outputs": [],
   "source": [
    "from sklearn.model_selection import train_test_split\n",
    "from sklearn.model_selection import KFold"
   ]
  },
  {
   "cell_type": "code",
   "execution_count": 23,
   "metadata": {},
   "outputs": [],
   "source": [
    "# Using the features extracted from tfidf vectorizer\n",
    "\n",
    "X = tfidfvectors.toarray()\n",
    "y = df.Label.astype('category').cat.codes\n",
    "\n",
    "# labels = {'Negative: 0, 'Neutral': 1, 'Positive': 2}\n",
    "#\n"
   ]
  },
  {
   "cell_type": "code",
   "execution_count": 43,
   "metadata": {},
   "outputs": [],
   "source": [
    "#df['Label']\n",
    "#y.head(20)"
   ]
  },
  {
   "cell_type": "code",
   "execution_count": 26,
   "metadata": {},
   "outputs": [],
   "source": [
    "X_train,X_test,y_train, y_test = train_test_split(X,y,test_size=0.2,random_state=42)"
   ]
  },
  {
   "cell_type": "markdown",
   "metadata": {},
   "source": [
    "##### Random Forest Classifier"
   ]
  },
  {
   "cell_type": "code",
   "execution_count": 27,
   "metadata": {},
   "outputs": [
    {
     "data": {
      "text/plain": [
       "RandomForestClassifier(bootstrap=True, class_weight=None, criterion='gini',\n",
       "                       max_depth=None, max_features='auto', max_leaf_nodes=None,\n",
       "                       min_impurity_decrease=0.0, min_impurity_split=None,\n",
       "                       min_samples_leaf=1, min_samples_split=2,\n",
       "                       min_weight_fraction_leaf=0.0, n_estimators=200,\n",
       "                       n_jobs=None, oob_score=False, random_state=0, verbose=0,\n",
       "                       warm_start=False)"
      ]
     },
     "execution_count": 27,
     "metadata": {},
     "output_type": "execute_result"
    }
   ],
   "source": [
    "from sklearn.ensemble import RandomForestClassifier\n",
    "\n",
    "text_classifier = RandomForestClassifier(n_estimators=200, random_state=0)\n",
    "text_classifier.fit(X_train, y_train)"
   ]
  },
  {
   "cell_type": "code",
   "execution_count": 28,
   "metadata": {},
   "outputs": [],
   "source": [
    "predictions = text_classifier.predict(X_test)"
   ]
  },
  {
   "cell_type": "code",
   "execution_count": 29,
   "metadata": {
    "scrolled": true
   },
   "outputs": [
    {
     "name": "stdout",
     "output_type": "stream",
     "text": [
      "[[30 10  0]\n",
      " [ 6  6  0]\n",
      " [ 2  2 11]]\n",
      "              precision    recall  f1-score   support\n",
      "\n",
      "           0       0.79      0.75      0.77        40\n",
      "           1       0.33      0.50      0.40        12\n",
      "           2       1.00      0.73      0.85        15\n",
      "\n",
      "    accuracy                           0.70        67\n",
      "   macro avg       0.71      0.66      0.67        67\n",
      "weighted avg       0.75      0.70      0.72        67\n",
      "\n",
      "0.7014925373134329\n"
     ]
    }
   ],
   "source": [
    "from sklearn.metrics import classification_report, confusion_matrix, accuracy_score\n",
    "print(confusion_matrix(y_test,predictions))\n",
    "print(classification_report(y_test,predictions))\n",
    "print(accuracy_score(y_test, predictions))"
   ]
  },
  {
   "cell_type": "code",
   "execution_count": 30,
   "metadata": {},
   "outputs": [
    {
     "name": "stdout",
     "output_type": "stream",
     "text": [
      "0.6447761194029851\n"
     ]
    }
   ],
   "source": [
    "rfclassifier_wfold = RandomForestClassifier(n_estimators=200, random_state=0)\n",
    "\n",
    "rf_scores = []\n",
    "folds = KFold(n_splits=5, random_state=42, shuffle=False)\n",
    "\n",
    "for train_index, test_index in folds.split(X):\n",
    "    \n",
    "    X_train, X_test, y_train, y_test = X[train_index], X[test_index],y[train_index],y[test_index]\n",
    "    rfclassifier_wfold.fit(X_train, y_train)\n",
    "    rf_scores.append(rfclassifier_wfold.score(X_test,y_test))\n",
    "\n",
    "print(np.mean(rf_scores))\n"
   ]
  },
  {
   "cell_type": "markdown",
   "metadata": {},
   "source": [
    "#####  Naive Bayes Classifier"
   ]
  },
  {
   "cell_type": "code",
   "execution_count": 31,
   "metadata": {},
   "outputs": [
    {
     "data": {
      "text/plain": [
       "GaussianNB(priors=None, var_smoothing=1e-09)"
      ]
     },
     "execution_count": 31,
     "metadata": {},
     "output_type": "execute_result"
    }
   ],
   "source": [
    "from sklearn.naive_bayes import GaussianNB\n",
    "\n",
    "gnb = GaussianNB()\n",
    "gnb.fit(X_train, y_train)"
   ]
  },
  {
   "cell_type": "code",
   "execution_count": 32,
   "metadata": {},
   "outputs": [],
   "source": [
    "naiveB_predictions = gnb.predict(X_test)"
   ]
  },
  {
   "cell_type": "code",
   "execution_count": 33,
   "metadata": {},
   "outputs": [
    {
     "name": "stdout",
     "output_type": "stream",
     "text": [
      "[[39  5  3]\n",
      " [ 5  3  3]\n",
      " [ 4  1  4]]\n",
      "              precision    recall  f1-score   support\n",
      "\n",
      "           0       0.81      0.83      0.82        47\n",
      "           1       0.33      0.27      0.30        11\n",
      "           2       0.40      0.44      0.42         9\n",
      "\n",
      "    accuracy                           0.69        67\n",
      "   macro avg       0.52      0.52      0.51        67\n",
      "weighted avg       0.68      0.69      0.68        67\n",
      "\n",
      "0.6865671641791045\n"
     ]
    }
   ],
   "source": [
    "print(confusion_matrix(y_test, naiveB_predictions))\n",
    "print(classification_report(y_test, naiveB_predictions))\n",
    "print(accuracy_score(y_test, naiveB_predictions))"
   ]
  },
  {
   "cell_type": "code",
   "execution_count": 34,
   "metadata": {},
   "outputs": [
    {
     "name": "stdout",
     "output_type": "stream",
     "text": [
      "0.7044776119402986\n"
     ]
    }
   ],
   "source": [
    "nbclassifier_wfold = GaussianNB()\n",
    "\n",
    "nb_scores = []\n",
    "folds = KFold(n_splits=5, random_state=42, shuffle=False)\n",
    "\n",
    "for train_index, test_index in folds.split(X):\n",
    "    \n",
    "    X_train, X_test, y_train, y_test = X[train_index], X[test_index],y[train_index],y[test_index]\n",
    "    nbclassifier_wfold.fit(X_train, y_train)\n",
    "    nb_scores.append(nbclassifier_wfold.score(X_test,y_test))\n",
    "\n",
    "print(np.mean(nb_scores))"
   ]
  },
  {
   "cell_type": "markdown",
   "metadata": {},
   "source": [
    "##### Support Vector Classifier"
   ]
  },
  {
   "cell_type": "code",
   "execution_count": 35,
   "metadata": {},
   "outputs": [
    {
     "data": {
      "text/plain": [
       "SVC(C=1.0, cache_size=200, class_weight=None, coef0=0.0,\n",
       "    decision_function_shape='ovr', degree=3, gamma='auto_deprecated',\n",
       "    kernel='linear', max_iter=-1, probability=False, random_state=None,\n",
       "    shrinking=True, tol=0.001, verbose=False)"
      ]
     },
     "execution_count": 35,
     "metadata": {},
     "output_type": "execute_result"
    }
   ],
   "source": [
    "from sklearn.svm import SVC\n",
    "svclassifier = SVC(kernel='linear')\n",
    "svclassifier.fit(X_train, y_train)"
   ]
  },
  {
   "cell_type": "code",
   "execution_count": 36,
   "metadata": {},
   "outputs": [
    {
     "name": "stdout",
     "output_type": "stream",
     "text": [
      "[[47  0  0]\n",
      " [ 9  2  0]\n",
      " [ 5  0  4]]\n",
      "              precision    recall  f1-score   support\n",
      "\n",
      "           0       0.77      1.00      0.87        47\n",
      "           1       1.00      0.18      0.31        11\n",
      "           2       1.00      0.44      0.62         9\n",
      "\n",
      "    accuracy                           0.79        67\n",
      "   macro avg       0.92      0.54      0.60        67\n",
      "weighted avg       0.84      0.79      0.74        67\n",
      "\n",
      "0.7910447761194029\n"
     ]
    }
   ],
   "source": [
    "sv_predictions = svclassifier.predict(X_test)\n",
    "\n",
    "print(confusion_matrix(y_test, sv_predictions))\n",
    "print(classification_report(y_test, sv_predictions))\n",
    "print(accuracy_score(y_test, sv_predictions))"
   ]
  },
  {
   "cell_type": "code",
   "execution_count": 37,
   "metadata": {},
   "outputs": [
    {
     "name": "stdout",
     "output_type": "stream",
     "text": [
      "0.7492537313432835\n"
     ]
    }
   ],
   "source": [
    "svclassifier_wfold = SVC(kernel='linear')\n",
    "\n",
    "scores = []\n",
    "folds = KFold(n_splits=5, random_state=42, shuffle=False)\n",
    "for train_index, test_index in folds.split(X):\n",
    "    \n",
    "    X_train, X_test, y_train, y_test = X[train_index], X[test_index],y[train_index],y[test_index]\n",
    "    svclassifier_wfold.fit(X_train, y_train)\n",
    "    scores.append(svclassifier_wfold.score(X_test,y_test))\n",
    "    \n",
    "print(np.mean(scores))"
   ]
  },
  {
   "cell_type": "code",
   "execution_count": null,
   "metadata": {},
   "outputs": [],
   "source": []
  }
 ],
 "metadata": {
  "kernelspec": {
   "display_name": "Python 3 (ipykernel)",
   "language": "python",
   "name": "python3"
  },
  "language_info": {
   "codemirror_mode": {
    "name": "ipython",
    "version": 3
   },
   "file_extension": ".py",
   "mimetype": "text/x-python",
   "name": "python",
   "nbconvert_exporter": "python",
   "pygments_lexer": "ipython3",
   "version": "3.10.4"
  }
 },
 "nbformat": 4,
 "nbformat_minor": 2
}
